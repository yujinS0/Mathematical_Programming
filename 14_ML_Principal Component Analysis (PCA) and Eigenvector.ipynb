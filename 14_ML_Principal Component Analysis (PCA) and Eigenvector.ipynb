{
  "nbformat": 4,
  "nbformat_minor": 0,
  "metadata": {
    "colab": {
      "provenance": []
    },
    "kernelspec": {
      "name": "python3",
      "display_name": "Python 3"
    },
    "language_info": {
      "name": "python"
    }
  },
  "cells": [
    {
      "cell_type": "markdown",
      "source": [
        "# Machine Learning - Principal Component Analysis (PCA) and Eigenvalue/Eigenvector"
      ],
      "metadata": {
        "id": "RaWAFFXkUu58"
      }
    },
    {
      "cell_type": "code",
      "execution_count": null,
      "metadata": {
        "id": "NmkgNMaTrsMD"
      },
      "outputs": [],
      "source": [
        "import numpy as np\n",
        "import matplotlib.pyplot as plt\n",
        "import pandas as pd"
      ]
    },
    {
      "cell_type": "markdown",
      "source": [
        "# Power Iteration Method"
      ],
      "metadata": {
        "id": "1BWfywfWrvTD"
      }
    },
    {
      "cell_type": "code",
      "source": [
        "def power_iteration(A, t):\n",
        "  '''\n",
        "  A: matrix with eigenvalues with different magnitudes\n",
        "  t: number of iterations\n",
        "  '''\n",
        "\n",
        "  n = A.shape[1] # n by n matrix의 열 크기\n",
        "\n",
        "  # initial vector\n",
        "  x = np.ones(n)\n",
        "\n",
        "  # loop\n",
        "  for i in range(t):\n",
        "    x = A@x\n",
        "    x = x / np.linalg.norm(x)\n",
        "\n",
        "  eigen_value = ((A@x).T @ x) / (x.T @ x)\n",
        "\n",
        "  return eigen_value, x.reshape(n, 1)"
      ],
      "metadata": {
        "id": "tpASWoalrwwm"
      },
      "execution_count": null,
      "outputs": []
    },
    {
      "cell_type": "code",
      "source": [
        "A = np.array([2, -12, 1, -5]).reshape(2, 2)"
      ],
      "metadata": {
        "id": "2liqRcJHuc2i"
      },
      "execution_count": null,
      "outputs": []
    },
    {
      "cell_type": "code",
      "source": [
        "power_iteration(A, 6)"
      ],
      "metadata": {
        "colab": {
          "base_uri": "https://localhost:8080/"
        },
        "id": "foybUJ8yu3-g",
        "outputId": "fb4c1408-27b2-4b96-b578-7043a0c07fb3"
      },
      "execution_count": null,
      "outputs": [
        {
          "output_type": "execute_result",
          "data": {
            "text/plain": [
              "(-2.0137264303475653,\n",
              " array([[0.94834884],\n",
              "        [0.31722937]]))"
            ]
          },
          "metadata": {},
          "execution_count": 12
        }
      ]
    },
    {
      "cell_type": "markdown",
      "source": [
        "# Deflation Method using Power Iteration to Extract Eigenvalues"
      ],
      "metadata": {
        "id": "ScUamPBkwnQy"
      }
    },
    {
      "cell_type": "code",
      "source": [
        "def power_iteration_with_deflation(A, t, num_eigen):\n",
        "\n",
        "  eval_list = []\n",
        "  evec_list = []\n",
        "\n",
        "  for i in range(num_eigen):\n",
        "    eval, evec = power_iteration(A,t)\n",
        "    A = A - eval * evec @ evec.T\n",
        "    eval_list.append(eval)\n",
        "    evec_list.append(evec)\n",
        "\n",
        "  return eval_list, evec_list"
      ],
      "metadata": {
        "id": "mtV4AIEfBVKi"
      },
      "execution_count": null,
      "outputs": []
    },
    {
      "cell_type": "code",
      "source": [
        "# using numpy library to get eigenvalue and eigenvector\n",
        "eval, evec = power_iteration_with_deflation(A, 100, 2)\n",
        "print(eval)\n",
        "print(evec)"
      ],
      "metadata": {
        "id": "APNEOgL8VZPF",
        "colab": {
          "base_uri": "https://localhost:8080/"
        },
        "outputId": "2901af4e-15a3-47cd-e603-50700f215b7b"
      },
      "execution_count": null,
      "outputs": [
        {
          "output_type": "stream",
          "name": "stdout",
          "text": [
            "[-2.0000000000000004, -0.9999999999999982]\n",
            "[array([[0.9486833 ],\n",
            "       [0.31622777]]), array([[0.92163538],\n",
            "       [0.388057  ]])]\n"
          ]
        }
      ]
    },
    {
      "cell_type": "code",
      "source": [
        "# using numpy library to get eigenvalue and eigenvector\n",
        "eigenvalues, eigenvectors = np.linalg.eig(A)\n",
        "print(eigenvalues)\n",
        "print(eigenvectors)"
      ],
      "metadata": {
        "id": "MhSvkRpGDwit",
        "colab": {
          "base_uri": "https://localhost:8080/"
        },
        "outputId": "41886916-0221-49bd-aa62-f3ebe2544bab"
      },
      "execution_count": null,
      "outputs": [
        {
          "output_type": "stream",
          "name": "stdout",
          "text": [
            "[-1. -2.]\n",
            "[[0.9701425  0.9486833 ]\n",
            " [0.24253563 0.31622777]]\n"
          ]
        }
      ]
    },
    {
      "cell_type": "markdown",
      "source": [
        "# Principal Component Analysis (PCA)"
      ],
      "metadata": {
        "id": "pbH1K7EYIxqk"
      }
    },
    {
      "cell_type": "code",
      "source": [
        "def PCA(D, k):\n",
        "  '''\n",
        "  D: data matrix packed row-wise\n",
        "  k: reduced dimension\n",
        "  '''\n",
        "\n",
        "  # D: n by d matrix\n",
        "  n = len(D)\n",
        "  d = D.shape[1]\n",
        "\n",
        "  # first, find the mean mu\n",
        "  mu = np.sum(D, axis=0) / n\n",
        "  mu = mu.reshape((d,1))\n",
        "\n",
        "  # Z: centered matrix\n",
        "  Z = D - np.ones((n, 1)) @ mu.T\n",
        "\n",
        "  # find covariance\n",
        "  cov = Z.T @ Z * (1/n)\n",
        "\n",
        "\n",
        "  # find eigenvalue and eigenvector of a covariance matrix\n",
        "  eval, evec = np.linalg.eig(cov)\n",
        "\n",
        "  # sort the eigenvalue and eigenvector\n",
        "  sorted_list = np.argsort(np.abs(eval))[::-1]\n",
        "  sorted_eval = eval[sorted_list]\n",
        "  sorted_evec = evec[:, sorted_list]\n",
        "\n",
        "  # pick k eigenvectors\n",
        "  U = evec[:, :k]\n",
        "\n",
        "  # reduced matrix\n",
        "  reduced_matrix = D @ U\n",
        "\n",
        "\n",
        "  return reduced_matrix\n"
      ],
      "metadata": {
        "id": "OxDVsh6jYHFH"
      },
      "execution_count": null,
      "outputs": []
    },
    {
      "cell_type": "code",
      "source": [
        "# load iris dataset\n",
        "url = \"https://archive.ics.uci.edu/ml/machine-learning-databases/iris/iris.data\"\n",
        "df = pd.read_csv(url, header=None)"
      ],
      "metadata": {
        "id": "nHgEx1Dxa8o8"
      },
      "execution_count": null,
      "outputs": []
    },
    {
      "cell_type": "code",
      "source": [
        "# change label to numerical values # 종류를 0,1,2 로 바꾸기\n",
        "df.replace(\"Iris-setosa\", 0, inplace=True)\n",
        "df.replace(\"Iris-versicolor\", 1, inplace=True)\n",
        "df.replace(\"Iris-virginica\", 2, inplace=True)"
      ],
      "metadata": {
        "id": "53UqMsmbSpzz"
      },
      "execution_count": null,
      "outputs": []
    },
    {
      "cell_type": "code",
      "source": [
        "# split iris data with data part and label part\n",
        "D = df.iloc[:, :4]\n",
        "D = D.to_numpy()\n",
        "iris_type = df.iloc[:, 4].to_numpy()"
      ],
      "metadata": {
        "id": "OkZXwhXOfxCa"
      },
      "execution_count": null,
      "outputs": []
    },
    {
      "cell_type": "code",
      "source": [
        "# perform PCA algorithm\n",
        "### !!!\n",
        "# 이렇게 PCA 뽑고\n",
        "reduced_matrix = PCA(D, k=2)"
      ],
      "metadata": {
        "id": "wP4_fmVGfx5b"
      },
      "execution_count": null,
      "outputs": []
    },
    {
      "cell_type": "code",
      "source": [
        "# draw iris data with reduced dimensionality\n",
        "##########!!!!!!!!!!!!!!!\n",
        "# 이렇게 PCA 뽑고\n",
        "plt.scatter(reduced_matrix[:, 0], reduced_matrix[:, 1], c=iris_type)\n",
        "plt.xlabel(\"eigenvector 1\")\n",
        "plt.ylabel(\"eigenvector 2\")\n",
        "plt.title(\"iris data shown after PCA with k=2\")\n",
        "\n",
        "#### 테스트 데이터 나누기\n",
        "####"
      ],
      "metadata": {
        "id": "Z_E-m8jqJVrL",
        "colab": {
          "base_uri": "https://localhost:8080/",
          "height": 490
        },
        "outputId": "dbb64e64-0eff-4bb2-cf11-9e7cbb1faacd"
      },
      "execution_count": null,
      "outputs": [
        {
          "output_type": "execute_result",
          "data": {
            "text/plain": [
              "Text(0.5, 1.0, 'iris data shown after PCA with k=2')"
            ]
          },
          "metadata": {},
          "execution_count": 21
        },
        {
          "output_type": "display_data",
          "data": {
            "text/plain": [
              "<Figure size 640x480 with 1 Axes>"
            ],
            "image/png": "[encoded data removed]"
          },
          "metadata": {}
        }
      ]
    }
  ]
}
