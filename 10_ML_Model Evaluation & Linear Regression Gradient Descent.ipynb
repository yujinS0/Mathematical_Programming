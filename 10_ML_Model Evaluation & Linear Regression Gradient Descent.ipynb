{
  "nbformat": 4,
  "nbformat_minor": 0,
  "metadata": {
    "colab": {
      "provenance": []
    },
    "kernelspec": {
      "name": "python3",
      "display_name": "Python 3"
    },
    "language_info": {
      "name": "python"
    }
  },
  "cells": [
    {
      "cell_type": "code",
      "execution_count": null,
      "metadata": {
        "id": "rI3jl02HzIJT"
      },
      "outputs": [],
      "source": [
        "import numpy as np\n",
        "import pandas as pd\n",
        "import matplotlib.pyplot as plt"
      ]
    },
    {
      "cell_type": "markdown",
      "source": [
        "# Machine Learning - Model Evaluation & Linear Regression Gradient Descent"
      ],
      "metadata": {
        "id": "HqA1IHnnzJox"
      }
    },
    {
      "cell_type": "markdown",
      "source": [
        "## 1. Model Evaluation\n",
        "### - Hold-out Evaluation"
      ],
      "metadata": {
        "id": "eGiKSSXmzQJy"
      }
    },
    {
      "cell_type": "code",
      "source": [
        "# load dataset\n",
        "url = \"https://archive.ics.uci.edu/ml/machine-learning-databases/wine-quality/winequality-red.csv\"\n",
        "df = pd.read_csv(url, sep=';')"
      ],
      "metadata": {
        "id": "xSrIOhlXzgPz"
      },
      "execution_count": null,
      "outputs": []
    },
    {
      "cell_type": "code",
      "source": [
        "# show data using head()\n",
        "df.head(2)"
      ],
      "metadata": {
        "id": "ieY8BvwLz7XX",
        "colab": {
          "base_uri": "https://localhost:8080/",
          "height": 211
        },
        "outputId": "361030d8-3661-46f5-b08d-6f6f92ddf9b7"
      },
      "execution_count": null,
      "outputs": [
        {
          "output_type": "execute_result",
          "data": {
            "text/plain": [
              "   fixed acidity  volatile acidity  citric acid  residual sugar  chlorides  \\\n",
              "0            7.4              0.70          0.0             1.9      0.076   \n",
              "1            7.8              0.88          0.0             2.6      0.098   \n",
              "\n",
              "   free sulfur dioxide  total sulfur dioxide  density    pH  sulphates  \\\n",
              "0                 11.0                  34.0   0.9978  3.51       0.56   \n",
              "1                 25.0                  67.0   0.9968  3.20       0.68   \n",
              "\n",
              "   alcohol  quality  \n",
              "0      9.4        5  \n",
              "1      9.8        5  "
            ],
            "text/html": [
              "\n",
              "  <div id=\"df-62798727-d6e3-4ea8-ab19-0f565f69b929\">\n",
              "    <div class=\"colab-df-container\">\n",
              "      <div>\n",
              "<style scoped>\n",
              "    .dataframe tbody tr th:only-of-type {\n",
              "        vertical-align: middle;\n",
              "    }\n",
              "\n",
              "    .dataframe tbody tr th {\n",
              "        vertical-align: top;\n",
              "    }\n",
              "\n",
              "    .dataframe thead th {\n",
              "        text-align: right;\n",
              "    }\n",
              "</style>\n",
              "<table border=\"1\" class=\"dataframe\">\n",
              "  <thead>\n",
              "    <tr style=\"text-align: right;\">\n",
              "      <th></th>\n",
              "      <th>fixed acidity</th>\n",
              "      <th>volatile acidity</th>\n",
              "      <th>citric acid</th>\n",
              "      <th>residual sugar</th>\n",
              "      <th>chlorides</th>\n",
              "      <th>free sulfur dioxide</th>\n",
              "      <th>total sulfur dioxide</th>\n",
              "      <th>density</th>\n",
              "      <th>pH</th>\n",
              "      <th>sulphates</th>\n",
              "      <th>alcohol</th>\n",
              "      <th>quality</th>\n",
              "    </tr>\n",
              "  </thead>\n",
              "  <tbody>\n",
              "    <tr>\n",
              "      <th>0</th>\n",
              "      <td>7.4</td>\n",
              "      <td>0.70</td>\n",
              "      <td>0.0</td>\n",
              "      <td>1.9</td>\n",
              "      <td>0.076</td>\n",
              "      <td>11.0</td>\n",
              "      <td>34.0</td>\n",
              "      <td>0.9978</td>\n",
              "      <td>3.51</td>\n",
              "      <td>0.56</td>\n",
              "      <td>9.4</td>\n",
              "      <td>5</td>\n",
              "    </tr>\n",
              "    <tr>\n",
              "      <th>1</th>\n",
              "      <td>7.8</td>\n",
              "      <td>0.88</td>\n",
              "      <td>0.0</td>\n",
              "      <td>2.6</td>\n",
              "      <td>0.098</td>\n",
              "      <td>25.0</td>\n",
              "      <td>67.0</td>\n",
              "      <td>0.9968</td>\n",
              "      <td>3.20</td>\n",
              "      <td>0.68</td>\n",
              "      <td>9.8</td>\n",
              "      <td>5</td>\n",
              "    </tr>\n",
              "  </tbody>\n",
              "</table>\n",
              "</div>\n",
              "      <button class=\"colab-df-convert\" onclick=\"convertToInteractive('df-62798727-d6e3-4ea8-ab19-0f565f69b929')\"\n",
              "              title=\"Convert this dataframe to an interactive table.\"\n",
              "              style=\"display:none;\">\n",
              "        \n",
              "  <svg xmlns=\"http://www.w3.org/2000/svg\" height=\"24px\"viewBox=\"0 0 24 24\"\n",
              "       width=\"24px\">\n",
              "    <path d=\"M0 0h24v24H0V0z\" fill=\"none\"/>\n",
              "    <path d=\"M18.56 5.44l.94 2.06.94-2.06 2.06-.94-2.06-.94-.94-2.06-.94 2.06-2.06.94zm-11 1L8.5 8.5l.94-2.06 2.06-.94-2.06-.94L8.5 2.5l-.94 2.06-2.06.94zm10 10l.94 2.06.94-2.06 2.06-.94-2.06-.94-.94-2.06-.94 2.06-2.06.94z\"/><path d=\"M17.41 7.96l-1.37-1.37c-.4-.4-.92-.59-1.43-.59-.52 0-1.04.2-1.43.59L10.3 9.45l-7.72 7.72c-.78.78-.78 2.05 0 2.83L4 21.41c.39.39.9.59 1.41.59.51 0 1.02-.2 1.41-.59l7.78-7.78 2.81-2.81c.8-.78.8-2.07 0-2.86zM5.41 20L4 18.59l7.72-7.72 1.47 1.35L5.41 20z\"/>\n",
              "  </svg>\n",
              "      </button>\n",
              "      \n",
              "  <style>\n",
              "    .colab-df-container {\n",
              "      display:flex;\n",
              "      flex-wrap:wrap;\n",
              "      gap: 12px;\n",
              "    }\n",
              "\n",
              "    .colab-df-convert {\n",
              "      background-color: #E8F0FE;\n",
              "      border: none;\n",
              "      border-radius: 50%;\n",
              "      cursor: pointer;\n",
              "      display: none;\n",
              "      fill: #1967D2;\n",
              "      height: 32px;\n",
              "      padding: 0 0 0 0;\n",
              "      width: 32px;\n",
              "    }\n",
              "\n",
              "    .colab-df-convert:hover {\n",
              "      background-color: #E2EBFA;\n",
              "      box-shadow: 0px 1px 2px rgba(60, 64, 67, 0.3), 0px 1px 3px 1px rgba(60, 64, 67, 0.15);\n",
              "      fill: #174EA6;\n",
              "    }\n",
              "\n",
              "    [theme=dark] .colab-df-convert {\n",
              "      background-color: #3B4455;\n",
              "      fill: #D2E3FC;\n",
              "    }\n",
              "\n",
              "    [theme=dark] .colab-df-convert:hover {\n",
              "      background-color: #434B5C;\n",
              "      box-shadow: 0px 1px 3px 1px rgba(0, 0, 0, 0.15);\n",
              "      filter: drop-shadow(0px 1px 2px rgba(0, 0, 0, 0.3));\n",
              "      fill: #FFFFFF;\n",
              "    }\n",
              "  </style>\n",
              "\n",
              "      <script>\n",
              "        const buttonEl =\n",
              "          document.querySelector('#df-62798727-d6e3-4ea8-ab19-0f565f69b929 button.colab-df-convert');\n",
              "        buttonEl.style.display =\n",
              "          google.colab.kernel.accessAllowed ? 'block' : 'none';\n",
              "\n",
              "        async function convertToInteractive(key) {\n",
              "          const element = document.querySelector('#df-62798727-d6e3-4ea8-ab19-0f565f69b929');\n",
              "          const dataTable =\n",
              "            await google.colab.kernel.invokeFunction('convertToInteractive',\n",
              "                                                     [key], {});\n",
              "          if (!dataTable) return;\n",
              "\n",
              "          const docLinkHtml = 'Like what you see? Visit the ' +\n",
              "            '<a target=\"_blank\" href=https://colab.research.google.com/notebooks/data_table.ipynb>data table notebook</a>'\n",
              "            + ' to learn more about interactive tables.';\n",
              "          element.innerHTML = '';\n",
              "          dataTable['output_type'] = 'display_data';\n",
              "          await google.colab.output.renderOutput(dataTable, element);\n",
              "          const docLink = document.createElement('div');\n",
              "          docLink.innerHTML = docLinkHtml;\n",
              "          element.appendChild(docLink);\n",
              "        }\n",
              "      </script>\n",
              "    </div>\n",
              "  </div>\n",
              "  "
            ]
          },
          "metadata": {},
          "execution_count": 32
        }
      ]
    },
    {
      "cell_type": "code",
      "source": [
        "# shuffle the data # 꼭 필요한 과정~\n",
        "df_shuffle = df.sample(frac=1, random_state=23) # frac :   # random_state : 시드값"
      ],
      "metadata": {
        "id": "oHfCqVIG22a_"
      },
      "execution_count": null,
      "outputs": []
    },
    {
      "cell_type": "code",
      "source": [
        "df_shuffle"
      ],
      "metadata": {
        "colab": {
          "base_uri": "https://localhost:8080/",
          "height": 522
        },
        "id": "7HLmiztdlx1y",
        "outputId": "8988b249-0b4c-4b1d-b2fa-a4dd5de690c3"
      },
      "execution_count": null,
      "outputs": [
        {
          "output_type": "execute_result",
          "data": {
            "text/plain": [
              "      fixed acidity  volatile acidity  citric acid  residual sugar  chlorides  \\\n",
              "1596            6.3             0.510         0.13             2.3      0.076   \n",
              "201             8.8             0.370         0.48             2.1      0.097   \n",
              "167             7.3             0.550         0.03             1.6      0.072   \n",
              "1011            8.9             0.320         0.31             2.0      0.088   \n",
              "604             8.3             0.580         0.13             2.9      0.096   \n",
              "...             ...               ...          ...             ...        ...   \n",
              "1512            6.4             0.790         0.04             2.2      0.061   \n",
              "950             8.9             0.120         0.45             1.8      0.075   \n",
              "1064            8.2             0.740         0.09             2.0      0.067   \n",
              "742             6.5             0.615         0.00             1.9      0.065   \n",
              "595             8.9             0.595         0.41             7.9      0.086   \n",
              "\n",
              "      free sulfur dioxide  total sulfur dioxide  density    pH  sulphates  \\\n",
              "1596                 29.0                  40.0  0.99574  3.42       0.75   \n",
              "201                  39.0                 145.0  0.99750  3.04       1.03   \n",
              "167                  17.0                  42.0  0.99560  3.37       0.48   \n",
              "1011                 12.0                  19.0  0.99570  3.17       0.55   \n",
              "604                  14.0                  63.0  0.99840  3.17       0.62   \n",
              "...                   ...                   ...      ...   ...        ...   \n",
              "1512                 11.0                  17.0  0.99588  3.53       0.65   \n",
              "950                  10.0                  21.0  0.99552  3.41       0.76   \n",
              "1064                  5.0                  10.0  0.99418  3.28       0.57   \n",
              "742                   9.0                  18.0  0.99720  3.46       0.65   \n",
              "595                  30.0                 109.0  0.99980  3.27       0.57   \n",
              "\n",
              "      alcohol  quality  \n",
              "1596     11.0        6  \n",
              "201       9.3        5  \n",
              "167       9.0        4  \n",
              "1011     10.4        6  \n",
              "604       9.1        6  \n",
              "...       ...      ...  \n",
              "1512     10.4        6  \n",
              "950      11.9        7  \n",
              "1064     11.8        6  \n",
              "742       9.2        5  \n",
              "595       9.3        5  \n",
              "\n",
              "[1599 rows x 12 columns]"
            ],
            "text/html": [
              "\n",
              "  <div id=\"df-d442762a-8b46-4d92-b379-8d2494296e0b\">\n",
              "    <div class=\"colab-df-container\">\n",
              "      <div>\n",
              "<style scoped>\n",
              "    .dataframe tbody tr th:only-of-type {\n",
              "        vertical-align: middle;\n",
              "    }\n",
              "\n",
              "    .dataframe tbody tr th {\n",
              "        vertical-align: top;\n",
              "    }\n",
              "\n",
              "    .dataframe thead th {\n",
              "        text-align: right;\n",
              "    }\n",
              "</style>\n",
              "<table border=\"1\" class=\"dataframe\">\n",
              "  <thead>\n",
              "    <tr style=\"text-align: right;\">\n",
              "      <th></th>\n",
              "      <th>fixed acidity</th>\n",
              "      <th>volatile acidity</th>\n",
              "      <th>citric acid</th>\n",
              "      <th>residual sugar</th>\n",
              "      <th>chlorides</th>\n",
              "      <th>free sulfur dioxide</th>\n",
              "      <th>total sulfur dioxide</th>\n",
              "      <th>density</th>\n",
              "      <th>pH</th>\n",
              "      <th>sulphates</th>\n",
              "      <th>alcohol</th>\n",
              "      <th>quality</th>\n",
              "    </tr>\n",
              "  </thead>\n",
              "  <tbody>\n",
              "    <tr>\n",
              "      <th>1596</th>\n",
              "      <td>6.3</td>\n",
              "      <td>0.510</td>\n",
              "      <td>0.13</td>\n",
              "      <td>2.3</td>\n",
              "      <td>0.076</td>\n",
              "      <td>29.0</td>\n",
              "      <td>40.0</td>\n",
              "      <td>0.99574</td>\n",
              "      <td>3.42</td>\n",
              "      <td>0.75</td>\n",
              "      <td>11.0</td>\n",
              "      <td>6</td>\n",
              "    </tr>\n",
              "    <tr>\n",
              "      <th>201</th>\n",
              "      <td>8.8</td>\n",
              "      <td>0.370</td>\n",
              "      <td>0.48</td>\n",
              "      <td>2.1</td>\n",
              "      <td>0.097</td>\n",
              "      <td>39.0</td>\n",
              "      <td>145.0</td>\n",
              "      <td>0.99750</td>\n",
              "      <td>3.04</td>\n",
              "      <td>1.03</td>\n",
              "      <td>9.3</td>\n",
              "      <td>5</td>\n",
              "    </tr>\n",
              "    <tr>\n",
              "      <th>167</th>\n",
              "      <td>7.3</td>\n",
              "      <td>0.550</td>\n",
              "      <td>0.03</td>\n",
              "      <td>1.6</td>\n",
              "      <td>0.072</td>\n",
              "      <td>17.0</td>\n",
              "      <td>42.0</td>\n",
              "      <td>0.99560</td>\n",
              "      <td>3.37</td>\n",
              "      <td>0.48</td>\n",
              "      <td>9.0</td>\n",
              "      <td>4</td>\n",
              "    </tr>\n",
              "    <tr>\n",
              "      <th>1011</th>\n",
              "      <td>8.9</td>\n",
              "      <td>0.320</td>\n",
              "      <td>0.31</td>\n",
              "      <td>2.0</td>\n",
              "      <td>0.088</td>\n",
              "      <td>12.0</td>\n",
              "      <td>19.0</td>\n",
              "      <td>0.99570</td>\n",
              "      <td>3.17</td>\n",
              "      <td>0.55</td>\n",
              "      <td>10.4</td>\n",
              "      <td>6</td>\n",
              "    </tr>\n",
              "    <tr>\n",
              "      <th>604</th>\n",
              "      <td>8.3</td>\n",
              "      <td>0.580</td>\n",
              "      <td>0.13</td>\n",
              "      <td>2.9</td>\n",
              "      <td>0.096</td>\n",
              "      <td>14.0</td>\n",
              "      <td>63.0</td>\n",
              "      <td>0.99840</td>\n",
              "      <td>3.17</td>\n",
              "      <td>0.62</td>\n",
              "      <td>9.1</td>\n",
              "      <td>6</td>\n",
              "    </tr>\n",
              "    <tr>\n",
              "      <th>...</th>\n",
              "      <td>...</td>\n",
              "      <td>...</td>\n",
              "      <td>...</td>\n",
              "      <td>...</td>\n",
              "      <td>...</td>\n",
              "      <td>...</td>\n",
              "      <td>...</td>\n",
              "      <td>...</td>\n",
              "      <td>...</td>\n",
              "      <td>...</td>\n",
              "      <td>...</td>\n",
              "      <td>...</td>\n",
              "    </tr>\n",
              "    <tr>\n",
              "      <th>1512</th>\n",
              "      <td>6.4</td>\n",
              "      <td>0.790</td>\n",
              "      <td>0.04</td>\n",
              "      <td>2.2</td>\n",
              "      <td>0.061</td>\n",
              "      <td>11.0</td>\n",
              "      <td>17.0</td>\n",
              "      <td>0.99588</td>\n",
              "      <td>3.53</td>\n",
              "      <td>0.65</td>\n",
              "      <td>10.4</td>\n",
              "      <td>6</td>\n",
              "    </tr>\n",
              "    <tr>\n",
              "      <th>950</th>\n",
              "      <td>8.9</td>\n",
              "      <td>0.120</td>\n",
              "      <td>0.45</td>\n",
              "      <td>1.8</td>\n",
              "      <td>0.075</td>\n",
              "      <td>10.0</td>\n",
              "      <td>21.0</td>\n",
              "      <td>0.99552</td>\n",
              "      <td>3.41</td>\n",
              "      <td>0.76</td>\n",
              "      <td>11.9</td>\n",
              "      <td>7</td>\n",
              "    </tr>\n",
              "    <tr>\n",
              "      <th>1064</th>\n",
              "      <td>8.2</td>\n",
              "      <td>0.740</td>\n",
              "      <td>0.09</td>\n",
              "      <td>2.0</td>\n",
              "      <td>0.067</td>\n",
              "      <td>5.0</td>\n",
              "      <td>10.0</td>\n",
              "      <td>0.99418</td>\n",
              "      <td>3.28</td>\n",
              "      <td>0.57</td>\n",
              "      <td>11.8</td>\n",
              "      <td>6</td>\n",
              "    </tr>\n",
              "    <tr>\n",
              "      <th>742</th>\n",
              "      <td>6.5</td>\n",
              "      <td>0.615</td>\n",
              "      <td>0.00</td>\n",
              "      <td>1.9</td>\n",
              "      <td>0.065</td>\n",
              "      <td>9.0</td>\n",
              "      <td>18.0</td>\n",
              "      <td>0.99720</td>\n",
              "      <td>3.46</td>\n",
              "      <td>0.65</td>\n",
              "      <td>9.2</td>\n",
              "      <td>5</td>\n",
              "    </tr>\n",
              "    <tr>\n",
              "      <th>595</th>\n",
              "      <td>8.9</td>\n",
              "      <td>0.595</td>\n",
              "      <td>0.41</td>\n",
              "      <td>7.9</td>\n",
              "      <td>0.086</td>\n",
              "      <td>30.0</td>\n",
              "      <td>109.0</td>\n",
              "      <td>0.99980</td>\n",
              "      <td>3.27</td>\n",
              "      <td>0.57</td>\n",
              "      <td>9.3</td>\n",
              "      <td>5</td>\n",
              "    </tr>\n",
              "  </tbody>\n",
              "</table>\n",
              "<p>1599 rows × 12 columns</p>\n",
              "</div>\n",
              "      <button class=\"colab-df-convert\" onclick=\"convertToInteractive('df-d442762a-8b46-4d92-b379-8d2494296e0b')\"\n",
              "              title=\"Convert this dataframe to an interactive table.\"\n",
              "              style=\"display:none;\">\n",
              "        \n",
              "  <svg xmlns=\"http://www.w3.org/2000/svg\" height=\"24px\"viewBox=\"0 0 24 24\"\n",
              "       width=\"24px\">\n",
              "    <path d=\"M0 0h24v24H0V0z\" fill=\"none\"/>\n",
              "    <path d=\"M18.56 5.44l.94 2.06.94-2.06 2.06-.94-2.06-.94-.94-2.06-.94 2.06-2.06.94zm-11 1L8.5 8.5l.94-2.06 2.06-.94-2.06-.94L8.5 2.5l-.94 2.06-2.06.94zm10 10l.94 2.06.94-2.06 2.06-.94-2.06-.94-.94-2.06-.94 2.06-2.06.94z\"/><path d=\"M17.41 7.96l-1.37-1.37c-.4-.4-.92-.59-1.43-.59-.52 0-1.04.2-1.43.59L10.3 9.45l-7.72 7.72c-.78.78-.78 2.05 0 2.83L4 21.41c.39.39.9.59 1.41.59.51 0 1.02-.2 1.41-.59l7.78-7.78 2.81-2.81c.8-.78.8-2.07 0-2.86zM5.41 20L4 18.59l7.72-7.72 1.47 1.35L5.41 20z\"/>\n",
              "  </svg>\n",
              "      </button>\n",
              "      \n",
              "  <style>\n",
              "    .colab-df-container {\n",
              "      display:flex;\n",
              "      flex-wrap:wrap;\n",
              "      gap: 12px;\n",
              "    }\n",
              "\n",
              "    .colab-df-convert {\n",
              "      background-color: #E8F0FE;\n",
              "      border: none;\n",
              "      border-radius: 50%;\n",
              "      cursor: pointer;\n",
              "      display: none;\n",
              "      fill: #1967D2;\n",
              "      height: 32px;\n",
              "      padding: 0 0 0 0;\n",
              "      width: 32px;\n",
              "    }\n",
              "\n",
              "    .colab-df-convert:hover {\n",
              "      background-color: #E2EBFA;\n",
              "      box-shadow: 0px 1px 2px rgba(60, 64, 67, 0.3), 0px 1px 3px 1px rgba(60, 64, 67, 0.15);\n",
              "      fill: #174EA6;\n",
              "    }\n",
              "\n",
              "    [theme=dark] .colab-df-convert {\n",
              "      background-color: #3B4455;\n",
              "      fill: #D2E3FC;\n",
              "    }\n",
              "\n",
              "    [theme=dark] .colab-df-convert:hover {\n",
              "      background-color: #434B5C;\n",
              "      box-shadow: 0px 1px 3px 1px rgba(0, 0, 0, 0.15);\n",
              "      filter: drop-shadow(0px 1px 2px rgba(0, 0, 0, 0.3));\n",
              "      fill: #FFFFFF;\n",
              "    }\n",
              "  </style>\n",
              "\n",
              "      <script>\n",
              "        const buttonEl =\n",
              "          document.querySelector('#df-d442762a-8b46-4d92-b379-8d2494296e0b button.colab-df-convert');\n",
              "        buttonEl.style.display =\n",
              "          google.colab.kernel.accessAllowed ? 'block' : 'none';\n",
              "\n",
              "        async function convertToInteractive(key) {\n",
              "          const element = document.querySelector('#df-d442762a-8b46-4d92-b379-8d2494296e0b');\n",
              "          const dataTable =\n",
              "            await google.colab.kernel.invokeFunction('convertToInteractive',\n",
              "                                                     [key], {});\n",
              "          if (!dataTable) return;\n",
              "\n",
              "          const docLinkHtml = 'Like what you see? Visit the ' +\n",
              "            '<a target=\"_blank\" href=https://colab.research.google.com/notebooks/data_table.ipynb>data table notebook</a>'\n",
              "            + ' to learn more about interactive tables.';\n",
              "          element.innerHTML = '';\n",
              "          dataTable['output_type'] = 'display_data';\n",
              "          await google.colab.output.renderOutput(dataTable, element);\n",
              "          const docLink = document.createElement('div');\n",
              "          docLink.innerHTML = docLinkHtml;\n",
              "          element.appendChild(docLink);\n",
              "        }\n",
              "      </script>\n",
              "    </div>\n",
              "  </div>\n",
              "  "
            ]
          },
          "metadata": {},
          "execution_count": 34
        }
      ]
    },
    {
      "cell_type": "code",
      "source": [
        "# select features \"fixed acidity\", \"volatile acidity\", \"chlorides\"\n",
        "A = df_shuffle[[\"fixed acidity\", \"volatile acidity\", \"chlorides\"]]\n",
        "A.insert(0, 'intercept', 1)\n",
        "A = A.to_numpy()"
      ],
      "metadata": {
        "id": "c1RWisj8zz1b"
      },
      "execution_count": null,
      "outputs": []
    },
    {
      "cell_type": "code",
      "source": [
        "# show data\n",
        "A"
      ],
      "metadata": {
        "id": "vupEIg_i0HkF",
        "colab": {
          "base_uri": "https://localhost:8080/"
        },
        "outputId": "8c915fc4-7860-4b9c-9da5-63d5ebd34574"
      },
      "execution_count": null,
      "outputs": [
        {
          "output_type": "execute_result",
          "data": {
            "text/plain": [
              "array([[1.   , 6.3  , 0.51 , 0.076],\n",
              "       [1.   , 8.8  , 0.37 , 0.097],\n",
              "       [1.   , 7.3  , 0.55 , 0.072],\n",
              "       ...,\n",
              "       [1.   , 8.2  , 0.74 , 0.067],\n",
              "       [1.   , 6.5  , 0.615, 0.065],\n",
              "       [1.   , 8.9  , 0.595, 0.086]])"
            ]
          },
          "metadata": {},
          "execution_count": 47
        }
      ]
    },
    {
      "cell_type": "code",
      "source": [
        "# convert to numpy arrays\n",
        "b = df_shuffle[\"quality\"].to_numpy()"
      ],
      "metadata": {
        "id": "5Gnk7Orx0H5B"
      },
      "execution_count": null,
      "outputs": []
    },
    {
      "cell_type": "code",
      "source": [
        "# hold-out evaluation: 80 for training / 20 for test\n",
        "x_train = A[:1400]\n",
        "y_train = b[:1400]\n",
        "x_test = A[1400:]\n",
        "y_test = b[1400:]"
      ],
      "metadata": {
        "id": "_DItxm_P0R9E"
      },
      "execution_count": null,
      "outputs": []
    },
    {
      "cell_type": "code",
      "source": [
        "# train the model with normal equation\n",
        "x_hat = np.linalg.inv(x_train.T @ x_train) @ x_train.T @ y_train"
      ],
      "metadata": {
        "id": "45UvFzaf0b6b"
      },
      "execution_count": null,
      "outputs": []
    },
    {
      "cell_type": "code",
      "source": [
        "# error = b - A x_hat\n",
        "error = y_test - x_test @ x_hat\n",
        "error"
      ],
      "metadata": {
        "id": "3alose6U4REx",
        "colab": {
          "base_uri": "https://localhost:8080/"
        },
        "outputId": "a39bc3c4-b971-4187-bab1-7d0efafe64ec"
      },
      "execution_count": null,
      "outputs": [
        {
          "output_type": "execute_result",
          "data": {
            "text/plain": [
              "array([ 5.37931236e-01, -8.42831323e-01,  2.45394589e-01,  1.32564306e+00,\n",
              "       -5.72191383e-02, -5.12725428e-01, -5.62897641e-02, -9.34289032e-01,\n",
              "        1.84532230e-01, -9.38977059e-03, -1.55794116e-02, -6.79544527e-01,\n",
              "        1.09376151e+00,  2.88129417e-01,  9.16496877e-01,  1.27063646e+00,\n",
              "       -5.36296744e-01,  5.90871244e-01, -7.40154206e-01,  8.46902246e-02,\n",
              "       -2.00727114e-01, -5.14751872e-01, -5.19547194e-01,  9.84941227e-01,\n",
              "        4.56936873e-01, -5.65992151e-01,  4.64224100e-01, -5.80668493e-01,\n",
              "        4.54435834e-01,  3.52410313e-01,  7.77171657e-01, -3.46333530e-02,\n",
              "        5.97065207e-02,  4.18699382e-01, -9.50499210e-01,  3.95527977e-01,\n",
              "       -4.13589460e-01, -4.14389023e-01,  6.20298354e-01, -1.69158770e+00,\n",
              "        1.64809566e-01,  4.72199092e-01, -8.11396297e-01,  4.10557466e-01,\n",
              "        1.01325166e+00,  9.55514579e-01, -3.58436010e-01,  1.10168138e+00,\n",
              "        4.23625287e-01,  3.78159502e-01, -7.00568297e-01, -1.04952312e+00,\n",
              "        8.84299605e-01, -2.30729688e-03,  5.42539818e-01, -5.73400568e-01,\n",
              "        3.51927097e-01,  5.53740472e-01,  1.31117912e+00, -5.99511610e-02,\n",
              "       -7.36575824e-01, -6.45154656e-01,  3.35104095e-01, -5.83903547e-01,\n",
              "        9.57316015e-02, -8.20746565e-01, -1.06620656e+00,  3.94437120e-02,\n",
              "        1.23244266e-01,  4.11189591e-01,  3.60329664e-01,  1.35901003e+00,\n",
              "        3.39155752e-01,  2.72198475e-01, -6.79544527e-01,  5.33765519e-01,\n",
              "        3.66054876e-01,  3.64703391e-02,  9.86631768e-01,  1.72021593e-01,\n",
              "        3.35494355e-01, -3.70108740e-01, -8.93300732e-01,  7.94030431e-01,\n",
              "        1.15614758e+00,  1.56518099e+00,  1.10718351e+00, -8.73391843e-01,\n",
              "        1.13740967e+00, -5.83085197e-01,  9.63825128e-02,  8.10074455e-01,\n",
              "       -1.44174267e+00,  2.31183538e-01,  7.44993738e-01,  9.65291705e-01,\n",
              "       -5.80389773e-01, -9.97473888e-01,  1.67214355e+00,  3.70125834e-01,\n",
              "        5.57792387e-01,  4.46508578e-01, -3.05958170e-01, -4.93336610e-01,\n",
              "        4.92035413e-02, -4.59690662e-01,  1.30580834e+00,  4.93520627e-01,\n",
              "       -3.30570915e-01,  8.24285248e-01,  4.17750449e-01,  1.14192627e+00,\n",
              "        5.61984278e-01, -7.31017278e-01, -1.05232957e+00,  1.40402655e+00,\n",
              "       -7.11926739e-01,  6.00110745e-01,  2.09156737e+00, -1.55221439e-01,\n",
              "        6.30948186e-01,  2.58963268e-01, -8.72870743e-01, -9.25236528e-01,\n",
              "       -1.00109869e+00, -5.84107326e-01,  1.02821663e+00, -3.59978724e-01,\n",
              "        4.61734972e-02, -1.03072983e+00,  7.19341826e-01,  1.67214355e+00,\n",
              "        1.00803056e+00, -5.48453977e-01,  5.83230355e-01,  1.76649476e-01,\n",
              "       -8.71550851e-01,  1.01444122e+00,  1.96745362e-01,  6.20298354e-01,\n",
              "       -1.39486198e+00, -1.36440334e+00, -4.83671281e-01,  1.14094023e+00,\n",
              "       -3.69672747e-01,  1.22573796e-01,  2.02284349e-01, -7.81932846e-01,\n",
              "        6.55424992e-02,  8.16243555e-02,  2.54538852e-01, -4.17149482e-01,\n",
              "       -2.32439830e-01,  2.09479079e-01,  1.48177244e+00, -3.60388028e-01,\n",
              "       -8.26547233e-01,  5.17184439e-01, -5.75277128e-01, -1.22385986e+00,\n",
              "       -1.96750141e-01,  1.83864022e-01,  5.85378762e-01, -5.71342357e-02,\n",
              "        1.50755957e-01,  8.78770578e-01, -5.06655947e-01,  7.92879262e-01,\n",
              "        7.50171417e-01, -3.18057243e-01, -2.47794235e-01,  4.98855578e-01,\n",
              "       -7.95521511e-01, -5.33341470e-02,  1.89403010e-01, -3.14109994e-01,\n",
              "        8.49827713e-01,  4.09962453e-01,  9.24878601e-01,  7.31738662e-01,\n",
              "       -1.46558680e-01,  1.01418180e+00,  4.41340808e-01, -2.65145635e+00,\n",
              "       -9.47970966e-01, -8.95976598e-01, -6.96386057e-01,  1.52093982e+00,\n",
              "       -5.55108562e-01, -7.56187206e-01,  1.74643106e-01, -9.90111925e-01,\n",
              "        6.23635555e-01,  7.15670521e-01,  8.19015162e-01,  6.42622405e-01,\n",
              "        6.97684183e-01, -4.72657109e-01, -5.29130193e-01])"
            ]
          },
          "metadata": {},
          "execution_count": 52
        }
      ]
    },
    {
      "cell_type": "code",
      "source": [
        "# MSE\n",
        "MSE = error.T @ error\n",
        "MSE = MSE / len(y_test)"
      ],
      "metadata": {
        "id": "KEthe6Lx5MbB"
      },
      "execution_count": null,
      "outputs": []
    },
    {
      "cell_type": "code",
      "source": [
        "# \"Model 1\" MSE\n",
        "MSE\n"
      ],
      "metadata": {
        "id": "Sl3oUjCa5947",
        "colab": {
          "base_uri": "https://localhost:8080/"
        },
        "outputId": "6017b9c5-181e-4aa5-87bf-be59c0963e82"
      },
      "execution_count": null,
      "outputs": [
        {
          "output_type": "execute_result",
          "data": {
            "text/plain": [
              "0.5800827732694251"
            ]
          },
          "metadata": {},
          "execution_count": 55
        }
      ]
    },
    {
      "cell_type": "markdown",
      "source": [
        "Suppose we want to compare two models \"Model 1\" and \"Model 2\",\n",
        "\n",
        "- \"Model 1\" is using \"fixed acidity\", \"volatile acidity\", \"chlorides\" for prediction of \"quality\".\n",
        "- \"Model 2\" is using \"residual sugar\", \"free sulfur dioxide\", \"chlorides\" for prediction of \"quality\".\n",
        "\n",
        "We can evaluate model performances with MSE."
      ],
      "metadata": {
        "id": "Hu9sitxt7z9B"
      }
    },
    {
      "cell_type": "code",
      "source": [
        "# feature selection\n",
        "A = df_shuffle[[\"residual sugar\", \"free sulfur dioxide\", \"chlorides\"]]\n",
        "A.insert(0, \"intercept\", 1)"
      ],
      "metadata": {
        "id": "Qn4UKINH9Fwd"
      },
      "execution_count": null,
      "outputs": []
    },
    {
      "cell_type": "code",
      "source": [
        "# convert to numpy arrays\n",
        "A = A.to_numpy()\n",
        "b = df_shuffle[[\"quality\"]].to_numpy()"
      ],
      "metadata": {
        "id": "05hc1Xbb9RQe"
      },
      "execution_count": null,
      "outputs": []
    },
    {
      "cell_type": "code",
      "source": [
        "# hold-out tech. train and test 80/20\n",
        "x_train = A[:1400]\n",
        "y_train = b[:1400]\n",
        "x_test = A[1400:]\n",
        "y_test = b[1400:]"
      ],
      "metadata": {
        "id": "zXZ0lPA09R40"
      },
      "execution_count": null,
      "outputs": []
    },
    {
      "cell_type": "code",
      "source": [
        "# train the model\n",
        "x_hat = np.linalg.inv(x_train.T @ x_train) @ x_train.T @ y_train"
      ],
      "metadata": {
        "id": "AMhQbvoy9zKs"
      },
      "execution_count": null,
      "outputs": []
    },
    {
      "cell_type": "code",
      "source": [
        "# error = b - A x_hat\n",
        "error = y_test - x_test @ x_hat"
      ],
      "metadata": {
        "id": "k_vIEa4n-UYr"
      },
      "execution_count": null,
      "outputs": []
    },
    {
      "cell_type": "code",
      "source": [
        "# \"Model 2\" MSE\n",
        "MSE = error.T @ error\n",
        "MSE = MSE / len(x_test)"
      ],
      "metadata": {
        "id": "4HPU74i__E8r"
      },
      "execution_count": null,
      "outputs": []
    },
    {
      "cell_type": "code",
      "source": [
        "MSE"
      ],
      "metadata": {
        "colab": {
          "base_uri": "https://localhost:8080/"
        },
        "id": "0UhbLVJlt6Ju",
        "outputId": "5a3856c1-05f7-44b4-c8b1-a4896ee0ab37"
      },
      "execution_count": null,
      "outputs": [
        {
          "output_type": "execute_result",
          "data": {
            "text/plain": [
              "array([[0.62398506]])"
            ]
          },
          "metadata": {},
          "execution_count": 66
        }
      ]
    },
    {
      "cell_type": "markdown",
      "source": [
        "Therefore, \"Model 1\" has better prediction than \"Model 2\" in terms of MSE using hold-out evaluation."
      ],
      "metadata": {
        "id": "Jkgm_PQ9_I9G"
      }
    },
    {
      "cell_type": "markdown",
      "source": [
        "## - k-fold cross-validation"
      ],
      "metadata": {
        "id": "NrgFdYaq_UX4"
      }
    },
    {
      "cell_type": "markdown",
      "source": [
        "Suppose we split dataset into 5-folds, and want to evaluate \"Model 1\"\n",
        "- Model 1: \"fixed acidity\", \"volatile acidity\", \"chlorides\" for features, and \"quality\" for prediction variable"
      ],
      "metadata": {
        "id": "4xaTwZHfAwn6"
      }
    },
    {
      "cell_type": "code",
      "source": [
        "# select features \"fixed acidity\", \"volatile acidity\", \"chlorides\"\n",
        "A = df_shuffle[[\"fixed acidity\", \"volatile acidity\", \"chlorides\"]]\n",
        "A.insert(0, 'intercept', 1)"
      ],
      "metadata": {
        "id": "fir79NoBC11N"
      },
      "execution_count": null,
      "outputs": []
    },
    {
      "cell_type": "markdown",
      "source": [],
      "metadata": {
        "id": "QIwfE6qeSRHL"
      }
    },
    {
      "cell_type": "code",
      "source": [
        "# convert to numpy arrays\n",
        "A = A.to_numpy()\n",
        "b = df_shuffle['quality'].to_numpy()"
      ],
      "metadata": {
        "id": "A6Q-Y0s8Ejxl"
      },
      "execution_count": null,
      "outputs": []
    },
    {
      "cell_type": "code",
      "source": [
        "# create 5-fold cross_validation function\n",
        "k = 5\n",
        "def cross_validation(k, A, b):\n",
        "  num_data = len(A) # 총데이터\n",
        "  idx = num_data // k # 한 인덱스\n",
        "  idx_set = [0, idx, 2*idx, 3*idx, 4*idx, num_data]\n",
        "  total_MSE = 0\n",
        "  for i in range(len(idx_set)-1):\n",
        "    # train set 인덱스 부분 합치기\n",
        "    x_train = np.concatenate((A[:idx_set[i]], A[idx_set[i+1]:]))\n",
        "    y_train = np.concatenate((b[:idx_set[i]], b[idx_set[i+1]:]))\n",
        "\n",
        "    # test set 부분\n",
        "    x_test = A[idx_set[i]:idx_set[i+1]]\n",
        "    y_test = b[idx_set[i]:idx_set[i+1]]\n",
        "\n",
        "    # 앞의 예제와 같은 계산 과정\n",
        "    x_hat = np.linalg.inv(x_train.T @ x_train) @ x_train.T @ y_train\n",
        "    error = y_test - x_test @ x_hat\n",
        "    MSE = error.T @ error / len(x_test)\n",
        "    total_MSE += MSE\n",
        "\n",
        "  avg_MSE = total_MSE / k\n",
        "\n",
        "  return avg_MSE"
      ],
      "metadata": {
        "id": "raM-IgNHCoOj"
      },
      "execution_count": null,
      "outputs": []
    },
    {
      "cell_type": "code",
      "source": [
        "# test the function for model 1\n",
        "cross_validation(k, A, b)"
      ],
      "metadata": {
        "id": "4eupSxvhHkVV",
        "colab": {
          "base_uri": "https://localhost:8080/"
        },
        "outputId": "7caa1153-f3a7-4491-a427-52a5da55e788"
      },
      "execution_count": null,
      "outputs": [
        {
          "output_type": "execute_result",
          "data": {
            "text/plain": [
              "0.5471914183865738"
            ]
          },
          "metadata": {},
          "execution_count": 91
        }
      ]
    },
    {
      "cell_type": "markdown",
      "source": [
        "Next, on Model 2, where the linear model is \"residual sugar\", \"free sulfur dioxide\", \"chlorides\" for features and predict \"quality\".\n",
        "- Use cross_validation with k=5 and compare with the previous result"
      ],
      "metadata": {
        "id": "nXfahA58Hlms"
      }
    },
    {
      "cell_type": "code",
      "source": [
        "# model 2 feature selection\n",
        "A = df_shuffle[[\"residual sugar\", \"free sulfur dioxide\", \"chlorides\"]]\n",
        "A.insert(0, \"intercept\", 1)"
      ],
      "metadata": {
        "id": "mlUV6W64Icb3"
      },
      "execution_count": null,
      "outputs": []
    },
    {
      "cell_type": "code",
      "source": [
        "# to numpy arrays\n",
        "A = A.to_numpy()\n",
        "b = df_shuffle[[\"quality\"]].to_numpy()"
      ],
      "metadata": {
        "id": "YVW_NF5CDhhJ"
      },
      "execution_count": null,
      "outputs": []
    },
    {
      "cell_type": "code",
      "source": [
        "# cross validation for model 2\n",
        "cross_validation(k, A, b)"
      ],
      "metadata": {
        "id": "FvLttkE8Iome",
        "colab": {
          "base_uri": "https://localhost:8080/"
        },
        "outputId": "873ea1eb-ece7-409e-b6e8-4b0ea56387cd"
      },
      "execution_count": null,
      "outputs": [
        {
          "output_type": "execute_result",
          "data": {
            "text/plain": [
              "array([[0.64260383]])"
            ]
          },
          "metadata": {},
          "execution_count": 96
        }
      ]
    },
    {
      "cell_type": "markdown",
      "source": [
        "# 2. Feature Engineering"
      ],
      "metadata": {
        "id": "fdx9Xn4TIqu6"
      }
    },
    {
      "cell_type": "code",
      "source": [
        "# Use pd.read_csv() to load the house price dataset from the URL.\n",
        "url = \"https://raw.githubusercontent.com/ageron/handson-ml2/master/datasets/housing/housing.csv\"\n",
        "df = pd.read_csv(url)"
      ],
      "metadata": {
        "id": "oOWbgJn2JJEm"
      },
      "execution_count": null,
      "outputs": []
    },
    {
      "cell_type": "code",
      "source": [
        "df.head(2)"
      ],
      "metadata": {
        "id": "b_xXQ-DPK1ZX"
      },
      "execution_count": null,
      "outputs": []
    },
    {
      "cell_type": "code",
      "source": [
        "# suppose person_per_bed = population / total_bedrooms which is how many people use one bedroom is the crucial feature for determining the house price\n"
      ],
      "metadata": {
        "id": "1T7PCLMWK2MT"
      },
      "execution_count": null,
      "outputs": []
    },
    {
      "cell_type": "code",
      "source": [
        "df.head(2)"
      ],
      "metadata": {
        "id": "a0BaUU7ZMALh"
      },
      "execution_count": null,
      "outputs": []
    },
    {
      "cell_type": "markdown",
      "source": [
        "# 3. Feature Scaling"
      ],
      "metadata": {
        "id": "zpdrKKqsS5Vt"
      }
    },
    {
      "cell_type": "markdown",
      "source": [
        "One way of feature scaling is max normalization where you can scale data by the maximum value."
      ],
      "metadata": {
        "id": "P_vmrSdYORXZ"
      }
    },
    {
      "cell_type": "code",
      "source": [
        "# get a maximum value from median_house_value in house price dataset\n",
        "max_value = df[\"median_house_value\"].max()\n",
        "max_value"
      ],
      "metadata": {
        "id": "Z2X8Tz9dTj4D",
        "colab": {
          "base_uri": "https://localhost:8080/",
          "height": 596
        },
        "outputId": "d44b9ae1-0fa6-4c6e-b5a0-66a097f8999c"
      },
      "execution_count": null,
      "outputs": [
        {
          "output_type": "error",
          "ename": "KeyError",
          "evalue": "ignored",
          "traceback": [
            "\u001b[0;31m---------------------------------------------------------------------------\u001b[0m",
            "\u001b[0;31mKeyError\u001b[0m                                  Traceback (most recent call last)",
            "\u001b[0;32m/usr/local/lib/python3.10/dist-packages/pandas/core/indexes/base.py\u001b[0m in \u001b[0;36mget_loc\u001b[0;34m(self, key, method, tolerance)\u001b[0m\n\u001b[1;32m   3801\u001b[0m             \u001b[0;32mtry\u001b[0m\u001b[0;34m:\u001b[0m\u001b[0;34m\u001b[0m\u001b[0;34m\u001b[0m\u001b[0m\n\u001b[0;32m-> 3802\u001b[0;31m                 \u001b[0;32mreturn\u001b[0m \u001b[0mself\u001b[0m\u001b[0;34m.\u001b[0m\u001b[0m_engine\u001b[0m\u001b[0;34m.\u001b[0m\u001b[0mget_loc\u001b[0m\u001b[0;34m(\u001b[0m\u001b[0mcasted_key\u001b[0m\u001b[0;34m)\u001b[0m\u001b[0;34m\u001b[0m\u001b[0;34m\u001b[0m\u001b[0m\n\u001b[0m\u001b[1;32m   3803\u001b[0m             \u001b[0;32mexcept\u001b[0m \u001b[0mKeyError\u001b[0m \u001b[0;32mas\u001b[0m \u001b[0merr\u001b[0m\u001b[0;34m:\u001b[0m\u001b[0;34m\u001b[0m\u001b[0;34m\u001b[0m\u001b[0m\n",
            "\u001b[0;32m/usr/local/lib/python3.10/dist-packages/pandas/_libs/index.pyx\u001b[0m in \u001b[0;36mpandas._libs.index.IndexEngine.get_loc\u001b[0;34m()\u001b[0m\n",
            "\u001b[0;32m/usr/local/lib/python3.10/dist-packages/pandas/_libs/index.pyx\u001b[0m in \u001b[0;36mpandas._libs.index.IndexEngine.get_loc\u001b[0;34m()\u001b[0m\n",
            "\u001b[0;32mpandas/_libs/hashtable_class_helper.pxi\u001b[0m in \u001b[0;36mpandas._libs.hashtable.PyObjectHashTable.get_item\u001b[0;34m()\u001b[0m\n",
            "\u001b[0;32mpandas/_libs/hashtable_class_helper.pxi\u001b[0m in \u001b[0;36mpandas._libs.hashtable.PyObjectHashTable.get_item\u001b[0;34m()\u001b[0m\n",
            "\u001b[0;31mKeyError\u001b[0m: 'median_house_value'",
            "\nThe above exception was the direct cause of the following exception:\n",
            "\u001b[0;31mKeyError\u001b[0m                                  Traceback (most recent call last)",
            "\u001b[0;32m<ipython-input-97-a0431ff48660>\u001b[0m in \u001b[0;36m<cell line: 2>\u001b[0;34m()\u001b[0m\n\u001b[1;32m      1\u001b[0m \u001b[0;31m# get a maximum value from median_house_value in house price dataset\u001b[0m\u001b[0;34m\u001b[0m\u001b[0;34m\u001b[0m\u001b[0m\n\u001b[0;32m----> 2\u001b[0;31m \u001b[0mmax_value\u001b[0m \u001b[0;34m=\u001b[0m \u001b[0mdf\u001b[0m\u001b[0;34m[\u001b[0m\u001b[0;34m\"median_house_value\"\u001b[0m\u001b[0;34m]\u001b[0m\u001b[0;34m.\u001b[0m\u001b[0mmax\u001b[0m\u001b[0;34m(\u001b[0m\u001b[0;34m)\u001b[0m\u001b[0;34m\u001b[0m\u001b[0;34m\u001b[0m\u001b[0m\n\u001b[0m\u001b[1;32m      3\u001b[0m \u001b[0mmax_value\u001b[0m\u001b[0;34m\u001b[0m\u001b[0;34m\u001b[0m\u001b[0m\n",
            "\u001b[0;32m/usr/local/lib/python3.10/dist-packages/pandas/core/frame.py\u001b[0m in \u001b[0;36m__getitem__\u001b[0;34m(self, key)\u001b[0m\n\u001b[1;32m   3805\u001b[0m             \u001b[0;32mif\u001b[0m \u001b[0mself\u001b[0m\u001b[0;34m.\u001b[0m\u001b[0mcolumns\u001b[0m\u001b[0;34m.\u001b[0m\u001b[0mnlevels\u001b[0m \u001b[0;34m>\u001b[0m \u001b[0;36m1\u001b[0m\u001b[0;34m:\u001b[0m\u001b[0;34m\u001b[0m\u001b[0;34m\u001b[0m\u001b[0m\n\u001b[1;32m   3806\u001b[0m                 \u001b[0;32mreturn\u001b[0m \u001b[0mself\u001b[0m\u001b[0;34m.\u001b[0m\u001b[0m_getitem_multilevel\u001b[0m\u001b[0;34m(\u001b[0m\u001b[0mkey\u001b[0m\u001b[0;34m)\u001b[0m\u001b[0;34m\u001b[0m\u001b[0;34m\u001b[0m\u001b[0m\n\u001b[0;32m-> 3807\u001b[0;31m             \u001b[0mindexer\u001b[0m \u001b[0;34m=\u001b[0m \u001b[0mself\u001b[0m\u001b[0;34m.\u001b[0m\u001b[0mcolumns\u001b[0m\u001b[0;34m.\u001b[0m\u001b[0mget_loc\u001b[0m\u001b[0;34m(\u001b[0m\u001b[0mkey\u001b[0m\u001b[0;34m)\u001b[0m\u001b[0;34m\u001b[0m\u001b[0;34m\u001b[0m\u001b[0m\n\u001b[0m\u001b[1;32m   3808\u001b[0m             \u001b[0;32mif\u001b[0m \u001b[0mis_integer\u001b[0m\u001b[0;34m(\u001b[0m\u001b[0mindexer\u001b[0m\u001b[0;34m)\u001b[0m\u001b[0;34m:\u001b[0m\u001b[0;34m\u001b[0m\u001b[0;34m\u001b[0m\u001b[0m\n\u001b[1;32m   3809\u001b[0m                 \u001b[0mindexer\u001b[0m \u001b[0;34m=\u001b[0m \u001b[0;34m[\u001b[0m\u001b[0mindexer\u001b[0m\u001b[0;34m]\u001b[0m\u001b[0;34m\u001b[0m\u001b[0;34m\u001b[0m\u001b[0m\n",
            "\u001b[0;32m/usr/local/lib/python3.10/dist-packages/pandas/core/indexes/base.py\u001b[0m in \u001b[0;36mget_loc\u001b[0;34m(self, key, method, tolerance)\u001b[0m\n\u001b[1;32m   3802\u001b[0m                 \u001b[0;32mreturn\u001b[0m \u001b[0mself\u001b[0m\u001b[0;34m.\u001b[0m\u001b[0m_engine\u001b[0m\u001b[0;34m.\u001b[0m\u001b[0mget_loc\u001b[0m\u001b[0;34m(\u001b[0m\u001b[0mcasted_key\u001b[0m\u001b[0;34m)\u001b[0m\u001b[0;34m\u001b[0m\u001b[0;34m\u001b[0m\u001b[0m\n\u001b[1;32m   3803\u001b[0m             \u001b[0;32mexcept\u001b[0m \u001b[0mKeyError\u001b[0m \u001b[0;32mas\u001b[0m \u001b[0merr\u001b[0m\u001b[0;34m:\u001b[0m\u001b[0;34m\u001b[0m\u001b[0;34m\u001b[0m\u001b[0m\n\u001b[0;32m-> 3804\u001b[0;31m                 \u001b[0;32mraise\u001b[0m \u001b[0mKeyError\u001b[0m\u001b[0;34m(\u001b[0m\u001b[0mkey\u001b[0m\u001b[0;34m)\u001b[0m \u001b[0;32mfrom\u001b[0m \u001b[0merr\u001b[0m\u001b[0;34m\u001b[0m\u001b[0;34m\u001b[0m\u001b[0m\n\u001b[0m\u001b[1;32m   3805\u001b[0m             \u001b[0;32mexcept\u001b[0m \u001b[0mTypeError\u001b[0m\u001b[0;34m:\u001b[0m\u001b[0;34m\u001b[0m\u001b[0;34m\u001b[0m\u001b[0m\n\u001b[1;32m   3806\u001b[0m                 \u001b[0;31m# If we have a listlike key, _check_indexing_error will raise\u001b[0m\u001b[0;34m\u001b[0m\u001b[0;34m\u001b[0m\u001b[0m\n",
            "\u001b[0;31mKeyError\u001b[0m: 'median_house_value'"
          ]
        }
      ]
    },
    {
      "cell_type": "code",
      "source": [
        "# you can normalize median_house_value\n",
        "df[\"median_house_value\"] # 데이터를 최대한 0과 1 사이에 scaling 시킴~"
      ],
      "metadata": {
        "id": "nSsCx5Z4UDND"
      },
      "execution_count": null,
      "outputs": []
    },
    {
      "cell_type": "code",
      "source": [
        "df"
      ],
      "metadata": {
        "id": "Ppxs3Xc3UPMS"
      },
      "execution_count": null,
      "outputs": []
    },
    {
      "cell_type": "markdown",
      "source": [
        "# 4. Linear Regression with 1 feature (Gradient Descent)"
      ],
      "metadata": {
        "id": "LRe6QWCVI_PZ"
      }
    },
    {
      "cell_type": "markdown",
      "source": [
        "Suppose we want to perform simple linear regression on weight and height data. Let us start with very simple synthetic data."
      ],
      "metadata": {
        "id": "wFEXhPvf7RXY"
      }
    },
    {
      "cell_type": "code",
      "source": [
        "# let's get our training data\n",
        "x_train = np.array([62, 64, 68, 72, 80, 85])\n",
        "y_train = np.array([166,173, 172, 180, 176, 185])"
      ],
      "metadata": {
        "id": "X2mCovRg7K6V"
      },
      "execution_count": null,
      "outputs": []
    },
    {
      "cell_type": "code",
      "source": [
        "# plot our data on 2-dimension xy-plane\n",
        "\n",
        "\n",
        "# labels and title\n",
        "\n"
      ],
      "metadata": {
        "id": "fJgSnnRM760H"
      },
      "execution_count": null,
      "outputs": []
    },
    {
      "cell_type": "markdown",
      "source": [
        "In linear regression,\n",
        "\n",
        "1.   model: $f_{wb} = wx + b$\n",
        "2.   parameter: $w, b$\n",
        "3.   cost function: $J(w, b)$\n",
        "4.   objective: $min_{w,b} J(w,b)$\n",
        "\n"
      ],
      "metadata": {
        "id": "MZQjQsKZ8Vn7"
      }
    },
    {
      "cell_type": "code",
      "source": [
        "# define our function (or hypothesis)\n",
        "def linear_function(w, b, x):\n",
        "  return"
      ],
      "metadata": {
        "id": "xZld_9HD8kXC"
      },
      "execution_count": null,
      "outputs": []
    },
    {
      "cell_type": "code",
      "source": [
        "# check if our function works\n",
        "linear_function(1, 100, x_train[0])"
      ],
      "metadata": {
        "id": "q5iukE_U9YmI"
      },
      "execution_count": null,
      "outputs": []
    },
    {
      "cell_type": "markdown",
      "source": [
        "In linear regression, we define cost function as squared error:\n",
        "\n",
        "\n",
        "$J(w,b) = 1/2m \\sum_{i=1}^{m} (f_{wb}(x^{(i)}) - y^{(i)})^2$"
      ],
      "metadata": {
        "id": "uZDpHNwJ9bWn"
      }
    },
    {
      "cell_type": "code",
      "source": [
        "# define cost function\n",
        "def cost_model(w, b, x, y):\n",
        "  '''\n",
        "  Args:\n",
        "    model param: w, b\n",
        "    input training data: x, y\n",
        "  Return:\n",
        "    cost: J_wb\n",
        "  '''\n",
        "  # initialize cost J_wb\n",
        "  J_wb = 0\n",
        "\n",
        "  # compute cost given w, b\n",
        "\n",
        "\n",
        "  return\n"
      ],
      "metadata": {
        "id": "o1JJ6x9L-ItY"
      },
      "execution_count": null,
      "outputs": []
    },
    {
      "cell_type": "code",
      "source": [
        "cost_model(1, 100, x_train, y_train)"
      ],
      "metadata": {
        "id": "HPLy1BJOAOuA"
      },
      "execution_count": null,
      "outputs": []
    },
    {
      "cell_type": "markdown",
      "source": [
        "Let us draw our initial model and its cost function with respect to $w$"
      ],
      "metadata": {
        "id": "1MUk-iOpA47T"
      }
    },
    {
      "cell_type": "code",
      "source": [
        "# our predicted value with w = 1, b = 100\n"
      ],
      "metadata": {
        "id": "l6yADQo7Btxp"
      },
      "execution_count": null,
      "outputs": []
    },
    {
      "cell_type": "code",
      "source": [
        "# plot our data on 2-dimension xy-plane\n",
        "\n",
        "# labels and title\n",
        "\n",
        "# our legend\n",
        "\n"
      ],
      "metadata": {
        "id": "ZmPYYs2aBhpn"
      },
      "execution_count": null,
      "outputs": []
    },
    {
      "cell_type": "code",
      "source": [
        "# cost function J_w with respect to w only\n",
        "J_w = np.zeros(20)\n",
        "w = np.linspace(0.5,  1.5, 20)\n",
        "for i in range(20):\n",
        "  J_w[i] = cost_model(w[i], 100, x_train, y_train)\n",
        "\n",
        "# print cost function J_w\n",
        "J_w"
      ],
      "metadata": {
        "id": "UVG_b8hmCD59"
      },
      "execution_count": null,
      "outputs": []
    },
    {
      "cell_type": "code",
      "source": [
        "# plot J_w\n",
        "plt.plot(w, J_w)"
      ],
      "metadata": {
        "id": "hADpNtrIDQbf"
      },
      "execution_count": null,
      "outputs": []
    },
    {
      "cell_type": "markdown",
      "source": [
        "Implement our learning algorithm - gradient descent algorithm where\n",
        "\n",
        "$dJ / dw = 1/m \\sum_{i=1}^{m} (f_{wb}(x^{(i)}) - y^{(i)}) * x^{(i)}$ and\n",
        "\n",
        "$dJ / db = 1/m \\sum_{i=1}^{m} (f_{wb}(x^{(i)}) - y^{(i)})$"
      ],
      "metadata": {
        "id": "dD73OstVEjLb"
      }
    },
    {
      "cell_type": "code",
      "source": [
        "# define gradient function w.r.t w\n",
        "def compute_grad_w(w, b, x, y):\n",
        "  '''\n",
        "    Args:\n",
        "      param: w, b\n",
        "      training data: x, y\n",
        "    Return:\n",
        "      dJ_dw\n",
        "  '''\n",
        "\n",
        "  return"
      ],
      "metadata": {
        "id": "F2_WY7yoFsoa"
      },
      "execution_count": null,
      "outputs": []
    },
    {
      "cell_type": "code",
      "source": [
        "# check if our function works\n",
        "compute_grad_w(100, 1, x_train, y_train)"
      ],
      "metadata": {
        "id": "rE7aWeWUHmYa"
      },
      "execution_count": null,
      "outputs": []
    },
    {
      "cell_type": "code",
      "source": [
        "# define gradient function w.r.t b\n",
        "def compute_grad_b(w, b, x, y):\n",
        "  '''\n",
        "    Args:\n",
        "      param: w, b\n",
        "      training data: x, y\n",
        "    Return:\n",
        "      dJ_db\n",
        "  '''\n",
        "\n",
        "  return"
      ],
      "metadata": {
        "id": "fl6FHsUzHpre"
      },
      "execution_count": null,
      "outputs": []
    },
    {
      "cell_type": "code",
      "source": [
        "# check if our function works\n",
        "compute_grad_b(100, 1, x_train, y_train)"
      ],
      "metadata": {
        "id": "indPyUG8H1eM"
      },
      "execution_count": null,
      "outputs": []
    },
    {
      "cell_type": "code",
      "source": [
        "# gradient descent algorithm\n",
        "def grad_descent(x, y):\n",
        "  '''\n",
        "    Args:\n",
        "      training data: x, y\n",
        "    Returns:\n",
        "      params: w, b\n",
        "      cost: J\n",
        "  '''\n",
        "  # create param w, b\n",
        "\n",
        "  # initialize w and b\n",
        "\n",
        "  # learning rate (alpha) and convergence ratio (epsilon)\n",
        "  alpha = 0.0001\n",
        "  epsilon = 0.001\n",
        "\n",
        "  # repeat procedure until convergence\n",
        "\n",
        "  return w, b, J\n"
      ],
      "metadata": {
        "id": "cJUasKqMH35W"
      },
      "execution_count": null,
      "outputs": []
    },
    {
      "cell_type": "code",
      "source": [
        "# compute gradient descent to obtain optimal paramters w and b, and number of iterations t\n",
        "w_trace, b_trace, J = grad_descent(x_train, y_train)"
      ],
      "metadata": {
        "id": "7iBjsvHkI02C"
      },
      "execution_count": null,
      "outputs": []
    },
    {
      "cell_type": "code",
      "source": [
        "# let look at the history of w\n",
        "w_trace"
      ],
      "metadata": {
        "id": "wqFhmwqII2fg"
      },
      "execution_count": null,
      "outputs": []
    },
    {
      "cell_type": "code",
      "source": [
        "# let look at the history of b\n",
        "b_trace"
      ],
      "metadata": {
        "id": "c9DDpK7KNYY1"
      },
      "execution_count": null,
      "outputs": []
    }
  ]
}