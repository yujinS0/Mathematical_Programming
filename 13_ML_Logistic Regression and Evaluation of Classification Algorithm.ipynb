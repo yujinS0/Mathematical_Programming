{
  "nbformat": 4,
  "nbformat_minor": 0,
  "metadata": {
    "colab": {
      "provenance": []
    },
    "kernelspec": {
      "name": "python3",
      "display_name": "Python 3"
    },
    "language_info": {
      "name": "python"
    }
  },
  "cells": [
    {
      "cell_type": "markdown",
      "source": [
        "# Machine Learning - Logistic Regression and Evaluation of Classification Algorithm"
      ],
      "metadata": {
        "id": "eglAY7O4kaWN"
      }
    },
    {
      "cell_type": "code",
      "source": [
        "import numpy as np\n",
        "import matplotlib.pyplot as plt\n",
        "import pandas as pd"
      ],
      "metadata": {
        "id": "Z0TyioSplRJ4"
      },
      "execution_count": null,
      "outputs": []
    },
    {
      "cell_type": "code",
      "source": [
        "# load data\n",
        "import pandas as pd\n",
        "\n",
        "url = \"https://archive.ics.uci.edu/ml/machine-learning-databases/iris/iris.data\"\n",
        "df = pd.read_csv(url, header=None)"
      ],
      "metadata": {
        "id": "WO4GP8fCk1-p"
      },
      "execution_count": null,
      "outputs": []
    },
    {
      "cell_type": "code",
      "source": [
        "# show iris dataset\n",
        "df"
      ],
      "metadata": {
        "id": "vvV2ZWS547Yw",
        "colab": {
          "base_uri": "https://localhost:8080/",
          "height": 423
        },
        "outputId": "c4058457-cfe5-461b-a99e-5f6a2494f418"
      },
      "execution_count": null,
      "outputs": [
        {
          "output_type": "execute_result",
          "data": {
            "text/plain": [
              "       0    1    2    3               4\n",
              "0    5.1  3.5  1.4  0.2     Iris-setosa\n",
              "1    4.9  3.0  1.4  0.2     Iris-setosa\n",
              "2    4.7  3.2  1.3  0.2     Iris-setosa\n",
              "3    4.6  3.1  1.5  0.2     Iris-setosa\n",
              "4    5.0  3.6  1.4  0.2     Iris-setosa\n",
              "..   ...  ...  ...  ...             ...\n",
              "145  6.7  3.0  5.2  2.3  Iris-virginica\n",
              "146  6.3  2.5  5.0  1.9  Iris-virginica\n",
              "147  6.5  3.0  5.2  2.0  Iris-virginica\n",
              "148  6.2  3.4  5.4  2.3  Iris-virginica\n",
              "149  5.9  3.0  5.1  1.8  Iris-virginica\n",
              "\n",
              "[150 rows x 5 columns]"
            ],
            "text/html": [
              "\n",
              "  <div id=\"df-73e6c669-f721-4401-b074-2e241b6e85b0\">\n",
              "    <div class=\"colab-df-container\">\n",
              "      <div>\n",
              "<style scoped>\n",
              "    .dataframe tbody tr th:only-of-type {\n",
              "        vertical-align: middle;\n",
              "    }\n",
              "\n",
              "    .dataframe tbody tr th {\n",
              "        vertical-align: top;\n",
              "    }\n",
              "\n",
              "    .dataframe thead th {\n",
              "        text-align: right;\n",
              "    }\n",
              "</style>\n",
              "<table border=\"1\" class=\"dataframe\">\n",
              "  <thead>\n",
              "    <tr style=\"text-align: right;\">\n",
              "      <th></th>\n",
              "      <th>0</th>\n",
              "      <th>1</th>\n",
              "      <th>2</th>\n",
              "      <th>3</th>\n",
              "      <th>4</th>\n",
              "    </tr>\n",
              "  </thead>\n",
              "  <tbody>\n",
              "    <tr>\n",
              "      <th>0</th>\n",
              "      <td>5.1</td>\n",
              "      <td>3.5</td>\n",
              "      <td>1.4</td>\n",
              "      <td>0.2</td>\n",
              "      <td>Iris-setosa</td>\n",
              "    </tr>\n",
              "    <tr>\n",
              "      <th>1</th>\n",
              "      <td>4.9</td>\n",
              "      <td>3.0</td>\n",
              "      <td>1.4</td>\n",
              "      <td>0.2</td>\n",
              "      <td>Iris-setosa</td>\n",
              "    </tr>\n",
              "    <tr>\n",
              "      <th>2</th>\n",
              "      <td>4.7</td>\n",
              "      <td>3.2</td>\n",
              "      <td>1.3</td>\n",
              "      <td>0.2</td>\n",
              "      <td>Iris-setosa</td>\n",
              "    </tr>\n",
              "    <tr>\n",
              "      <th>3</th>\n",
              "      <td>4.6</td>\n",
              "      <td>3.1</td>\n",
              "      <td>1.5</td>\n",
              "      <td>0.2</td>\n",
              "      <td>Iris-setosa</td>\n",
              "    </tr>\n",
              "    <tr>\n",
              "      <th>4</th>\n",
              "      <td>5.0</td>\n",
              "      <td>3.6</td>\n",
              "      <td>1.4</td>\n",
              "      <td>0.2</td>\n",
              "      <td>Iris-setosa</td>\n",
              "    </tr>\n",
              "    <tr>\n",
              "      <th>...</th>\n",
              "      <td>...</td>\n",
              "      <td>...</td>\n",
              "      <td>...</td>\n",
              "      <td>...</td>\n",
              "      <td>...</td>\n",
              "    </tr>\n",
              "    <tr>\n",
              "      <th>145</th>\n",
              "      <td>6.7</td>\n",
              "      <td>3.0</td>\n",
              "      <td>5.2</td>\n",
              "      <td>2.3</td>\n",
              "      <td>Iris-virginica</td>\n",
              "    </tr>\n",
              "    <tr>\n",
              "      <th>146</th>\n",
              "      <td>6.3</td>\n",
              "      <td>2.5</td>\n",
              "      <td>5.0</td>\n",
              "      <td>1.9</td>\n",
              "      <td>Iris-virginica</td>\n",
              "    </tr>\n",
              "    <tr>\n",
              "      <th>147</th>\n",
              "      <td>6.5</td>\n",
              "      <td>3.0</td>\n",
              "      <td>5.2</td>\n",
              "      <td>2.0</td>\n",
              "      <td>Iris-virginica</td>\n",
              "    </tr>\n",
              "    <tr>\n",
              "      <th>148</th>\n",
              "      <td>6.2</td>\n",
              "      <td>3.4</td>\n",
              "      <td>5.4</td>\n",
              "      <td>2.3</td>\n",
              "      <td>Iris-virginica</td>\n",
              "    </tr>\n",
              "    <tr>\n",
              "      <th>149</th>\n",
              "      <td>5.9</td>\n",
              "      <td>3.0</td>\n",
              "      <td>5.1</td>\n",
              "      <td>1.8</td>\n",
              "      <td>Iris-virginica</td>\n",
              "    </tr>\n",
              "  </tbody>\n",
              "</table>\n",
              "<p>150 rows × 5 columns</p>\n",
              "</div>\n",
              "      <button class=\"colab-df-convert\" onclick=\"convertToInteractive('df-73e6c669-f721-4401-b074-2e241b6e85b0')\"\n",
              "              title=\"Convert this dataframe to an interactive table.\"\n",
              "              style=\"display:none;\">\n",
              "        \n",
              "  <svg xmlns=\"http://www.w3.org/2000/svg\" height=\"24px\"viewBox=\"0 0 24 24\"\n",
              "       width=\"24px\">\n",
              "    <path d=\"M0 0h24v24H0V0z\" fill=\"none\"/>\n",
              "    <path d=\"M18.56 5.44l.94 2.06.94-2.06 2.06-.94-2.06-.94-.94-2.06-.94 2.06-2.06.94zm-11 1L8.5 8.5l.94-2.06 2.06-.94-2.06-.94L8.5 2.5l-.94 2.06-2.06.94zm10 10l.94 2.06.94-2.06 2.06-.94-2.06-.94-.94-2.06-.94 2.06-2.06.94z\"/><path d=\"M17.41 7.96l-1.37-1.37c-.4-.4-.92-.59-1.43-.59-.52 0-1.04.2-1.43.59L10.3 9.45l-7.72 7.72c-.78.78-.78 2.05 0 2.83L4 21.41c.39.39.9.59 1.41.59.51 0 1.02-.2 1.41-.59l7.78-7.78 2.81-2.81c.8-.78.8-2.07 0-2.86zM5.41 20L4 18.59l7.72-7.72 1.47 1.35L5.41 20z\"/>\n",
              "  </svg>\n",
              "      </button>\n",
              "      \n",
              "  <style>\n",
              "    .colab-df-container {\n",
              "      display:flex;\n",
              "      flex-wrap:wrap;\n",
              "      gap: 12px;\n",
              "    }\n",
              "\n",
              "    .colab-df-convert {\n",
              "      background-color: #E8F0FE;\n",
              "      border: none;\n",
              "      border-radius: 50%;\n",
              "      cursor: pointer;\n",
              "      display: none;\n",
              "      fill: #1967D2;\n",
              "      height: 32px;\n",
              "      padding: 0 0 0 0;\n",
              "      width: 32px;\n",
              "    }\n",
              "\n",
              "    .colab-df-convert:hover {\n",
              "      background-color: #E2EBFA;\n",
              "      box-shadow: 0px 1px 2px rgba(60, 64, 67, 0.3), 0px 1px 3px 1px rgba(60, 64, 67, 0.15);\n",
              "      fill: #174EA6;\n",
              "    }\n",
              "\n",
              "    [theme=dark] .colab-df-convert {\n",
              "      background-color: #3B4455;\n",
              "      fill: #D2E3FC;\n",
              "    }\n",
              "\n",
              "    [theme=dark] .colab-df-convert:hover {\n",
              "      background-color: #434B5C;\n",
              "      box-shadow: 0px 1px 3px 1px rgba(0, 0, 0, 0.15);\n",
              "      filter: drop-shadow(0px 1px 2px rgba(0, 0, 0, 0.3));\n",
              "      fill: #FFFFFF;\n",
              "    }\n",
              "  </style>\n",
              "\n",
              "      <script>\n",
              "        const buttonEl =\n",
              "          document.querySelector('#df-73e6c669-f721-4401-b074-2e241b6e85b0 button.colab-df-convert');\n",
              "        buttonEl.style.display =\n",
              "          google.colab.kernel.accessAllowed ? 'block' : 'none';\n",
              "\n",
              "        async function convertToInteractive(key) {\n",
              "          const element = document.querySelector('#df-73e6c669-f721-4401-b074-2e241b6e85b0');\n",
              "          const dataTable =\n",
              "            await google.colab.kernel.invokeFunction('convertToInteractive',\n",
              "                                                     [key], {});\n",
              "          if (!dataTable) return;\n",
              "\n",
              "          const docLinkHtml = 'Like what you see? Visit the ' +\n",
              "            '<a target=\"_blank\" href=https://colab.research.google.com/notebooks/data_table.ipynb>data table notebook</a>'\n",
              "            + ' to learn more about interactive tables.';\n",
              "          element.innerHTML = '';\n",
              "          dataTable['output_type'] = 'display_data';\n",
              "          await google.colab.output.renderOutput(dataTable, element);\n",
              "          const docLink = document.createElement('div');\n",
              "          docLink.innerHTML = docLinkHtml;\n",
              "          element.appendChild(docLink);\n",
              "        }\n",
              "      </script>\n",
              "    </div>\n",
              "  </div>\n",
              "  "
            ]
          },
          "metadata": {},
          "execution_count": 22
        }
      ]
    },
    {
      "cell_type": "code",
      "source": [
        "# show unique labels\n",
        "df[4].unique()"
      ],
      "metadata": {
        "id": "Jmq1T1ai7TSH",
        "colab": {
          "base_uri": "https://localhost:8080/"
        },
        "outputId": "b4d31116-6cbc-4ec8-9443-86e173855098"
      },
      "execution_count": null,
      "outputs": [
        {
          "output_type": "execute_result",
          "data": {
            "text/plain": [
              "array(['Iris-setosa', 'Iris-versicolor', 'Iris-virginica'], dtype=object)"
            ]
          },
          "metadata": {},
          "execution_count": 23
        }
      ]
    },
    {
      "cell_type": "code",
      "source": [
        "# get only iris-setosa and iris-versicolor\n",
        "new_df =df[(df[4] == \"Iris-setosa\")|(df[4]==\"Iris-virginica\")]\n",
        "new_df.head(2)"
      ],
      "metadata": {
        "id": "b-mXP0DD76ta",
        "colab": {
          "base_uri": "https://localhost:8080/",
          "height": 112
        },
        "outputId": "14c505bb-54ad-4304-ae1b-ac2f0b932f36"
      },
      "execution_count": null,
      "outputs": [
        {
          "output_type": "execute_result",
          "data": {
            "text/plain": [
              "     0    1    2    3            4\n",
              "0  5.1  3.5  1.4  0.2  Iris-setosa\n",
              "1  4.9  3.0  1.4  0.2  Iris-setosa"
            ],
            "text/html": [
              "\n",
              "  <div id=\"df-b34d15d9-437a-406e-b6ab-8e4259de9b7a\">\n",
              "    <div class=\"colab-df-container\">\n",
              "      <div>\n",
              "<style scoped>\n",
              "    .dataframe tbody tr th:only-of-type {\n",
              "        vertical-align: middle;\n",
              "    }\n",
              "\n",
              "    .dataframe tbody tr th {\n",
              "        vertical-align: top;\n",
              "    }\n",
              "\n",
              "    .dataframe thead th {\n",
              "        text-align: right;\n",
              "    }\n",
              "</style>\n",
              "<table border=\"1\" class=\"dataframe\">\n",
              "  <thead>\n",
              "    <tr style=\"text-align: right;\">\n",
              "      <th></th>\n",
              "      <th>0</th>\n",
              "      <th>1</th>\n",
              "      <th>2</th>\n",
              "      <th>3</th>\n",
              "      <th>4</th>\n",
              "    </tr>\n",
              "  </thead>\n",
              "  <tbody>\n",
              "    <tr>\n",
              "      <th>0</th>\n",
              "      <td>5.1</td>\n",
              "      <td>3.5</td>\n",
              "      <td>1.4</td>\n",
              "      <td>0.2</td>\n",
              "      <td>Iris-setosa</td>\n",
              "    </tr>\n",
              "    <tr>\n",
              "      <th>1</th>\n",
              "      <td>4.9</td>\n",
              "      <td>3.0</td>\n",
              "      <td>1.4</td>\n",
              "      <td>0.2</td>\n",
              "      <td>Iris-setosa</td>\n",
              "    </tr>\n",
              "  </tbody>\n",
              "</table>\n",
              "</div>\n",
              "      <button class=\"colab-df-convert\" onclick=\"convertToInteractive('df-b34d15d9-437a-406e-b6ab-8e4259de9b7a')\"\n",
              "              title=\"Convert this dataframe to an interactive table.\"\n",
              "              style=\"display:none;\">\n",
              "        \n",
              "  <svg xmlns=\"http://www.w3.org/2000/svg\" height=\"24px\"viewBox=\"0 0 24 24\"\n",
              "       width=\"24px\">\n",
              "    <path d=\"M0 0h24v24H0V0z\" fill=\"none\"/>\n",
              "    <path d=\"M18.56 5.44l.94 2.06.94-2.06 2.06-.94-2.06-.94-.94-2.06-.94 2.06-2.06.94zm-11 1L8.5 8.5l.94-2.06 2.06-.94-2.06-.94L8.5 2.5l-.94 2.06-2.06.94zm10 10l.94 2.06.94-2.06 2.06-.94-2.06-.94-.94-2.06-.94 2.06-2.06.94z\"/><path d=\"M17.41 7.96l-1.37-1.37c-.4-.4-.92-.59-1.43-.59-.52 0-1.04.2-1.43.59L10.3 9.45l-7.72 7.72c-.78.78-.78 2.05 0 2.83L4 21.41c.39.39.9.59 1.41.59.51 0 1.02-.2 1.41-.59l7.78-7.78 2.81-2.81c.8-.78.8-2.07 0-2.86zM5.41 20L4 18.59l7.72-7.72 1.47 1.35L5.41 20z\"/>\n",
              "  </svg>\n",
              "      </button>\n",
              "      \n",
              "  <style>\n",
              "    .colab-df-container {\n",
              "      display:flex;\n",
              "      flex-wrap:wrap;\n",
              "      gap: 12px;\n",
              "    }\n",
              "\n",
              "    .colab-df-convert {\n",
              "      background-color: #E8F0FE;\n",
              "      border: none;\n",
              "      border-radius: 50%;\n",
              "      cursor: pointer;\n",
              "      display: none;\n",
              "      fill: #1967D2;\n",
              "      height: 32px;\n",
              "      padding: 0 0 0 0;\n",
              "      width: 32px;\n",
              "    }\n",
              "\n",
              "    .colab-df-convert:hover {\n",
              "      background-color: #E2EBFA;\n",
              "      box-shadow: 0px 1px 2px rgba(60, 64, 67, 0.3), 0px 1px 3px 1px rgba(60, 64, 67, 0.15);\n",
              "      fill: #174EA6;\n",
              "    }\n",
              "\n",
              "    [theme=dark] .colab-df-convert {\n",
              "      background-color: #3B4455;\n",
              "      fill: #D2E3FC;\n",
              "    }\n",
              "\n",
              "    [theme=dark] .colab-df-convert:hover {\n",
              "      background-color: #434B5C;\n",
              "      box-shadow: 0px 1px 3px 1px rgba(0, 0, 0, 0.15);\n",
              "      filter: drop-shadow(0px 1px 2px rgba(0, 0, 0, 0.3));\n",
              "      fill: #FFFFFF;\n",
              "    }\n",
              "  </style>\n",
              "\n",
              "      <script>\n",
              "        const buttonEl =\n",
              "          document.querySelector('#df-b34d15d9-437a-406e-b6ab-8e4259de9b7a button.colab-df-convert');\n",
              "        buttonEl.style.display =\n",
              "          google.colab.kernel.accessAllowed ? 'block' : 'none';\n",
              "\n",
              "        async function convertToInteractive(key) {\n",
              "          const element = document.querySelector('#df-b34d15d9-437a-406e-b6ab-8e4259de9b7a');\n",
              "          const dataTable =\n",
              "            await google.colab.kernel.invokeFunction('convertToInteractive',\n",
              "                                                     [key], {});\n",
              "          if (!dataTable) return;\n",
              "\n",
              "          const docLinkHtml = 'Like what you see? Visit the ' +\n",
              "            '<a target=\"_blank\" href=https://colab.research.google.com/notebooks/data_table.ipynb>data table notebook</a>'\n",
              "            + ' to learn more about interactive tables.';\n",
              "          element.innerHTML = '';\n",
              "          dataTable['output_type'] = 'display_data';\n",
              "          await google.colab.output.renderOutput(dataTable, element);\n",
              "          const docLink = document.createElement('div');\n",
              "          docLink.innerHTML = docLinkHtml;\n",
              "          element.appendChild(docLink);\n",
              "        }\n",
              "      </script>\n",
              "    </div>\n",
              "  </div>\n",
              "  "
            ]
          },
          "metadata": {},
          "execution_count": 24
        }
      ]
    },
    {
      "cell_type": "code",
      "source": [
        "# change the label to 0 and 1\n",
        "new_df.replace(\"Iris-setosa\", 0, inplace=True)\n",
        "new_df.replace(\"Iris-virginica\", 1, inplace=True)"
      ],
      "metadata": {
        "id": "lCHC30Xq8n5n",
        "colab": {
          "base_uri": "https://localhost:8080/"
        },
        "outputId": "82da4e60-e5f3-4409-c1e0-fc323709c55c"
      },
      "execution_count": null,
      "outputs": [
        {
          "output_type": "stream",
          "name": "stderr",
          "text": [
            "<ipython-input-25-0956c431b88d>:2: SettingWithCopyWarning: \n",
            "A value is trying to be set on a copy of a slice from a DataFrame\n",
            "\n",
            "See the caveats in the documentation: https://pandas.pydata.org/pandas-docs/stable/user_guide/indexing.html#returning-a-view-versus-a-copy\n",
            "  new_df.replace(\"Iris-setosa\", 0, inplace=True)\n",
            "<ipython-input-25-0956c431b88d>:3: SettingWithCopyWarning: \n",
            "A value is trying to be set on a copy of a slice from a DataFrame\n",
            "\n",
            "See the caveats in the documentation: https://pandas.pydata.org/pandas-docs/stable/user_guide/indexing.html#returning-a-view-versus-a-copy\n",
            "  new_df.replace(\"Iris-virginica\", 1, inplace=True)\n"
          ]
        }
      ]
    },
    {
      "cell_type": "code",
      "source": [
        "# shuffle data\n",
        "new_df = new_df.sample(frac=1, random_state = 23)\n",
        "new_df"
      ],
      "metadata": {
        "id": "MXPCOEcDCb8Y",
        "colab": {
          "base_uri": "https://localhost:8080/",
          "height": 423
        },
        "outputId": "f5289036-0481-4caf-c02c-28057a8c07fc"
      },
      "execution_count": null,
      "outputs": [
        {
          "output_type": "execute_result",
          "data": {
            "text/plain": [
              "       0    1    2    3  4\n",
              "26   5.0  3.4  1.6  0.4  0\n",
              "130  7.4  2.8  6.1  1.9  1\n",
              "132  6.4  2.8  5.6  2.2  1\n",
              "118  7.7  2.6  6.9  2.3  1\n",
              "127  6.1  3.0  4.9  1.8  1\n",
              "..   ...  ...  ...  ... ..\n",
              "31   5.4  3.4  1.5  0.4  0\n",
              "104  6.5  3.0  5.8  2.2  1\n",
              "123  6.3  2.7  4.9  1.8  1\n",
              "40   5.0  3.5  1.3  0.3  0\n",
              "133  6.3  2.8  5.1  1.5  1\n",
              "\n",
              "[100 rows x 5 columns]"
            ],
            "text/html": [
              "\n",
              "  <div id=\"df-48341168-4de7-4555-badb-b3223918f21d\">\n",
              "    <div class=\"colab-df-container\">\n",
              "      <div>\n",
              "<style scoped>\n",
              "    .dataframe tbody tr th:only-of-type {\n",
              "        vertical-align: middle;\n",
              "    }\n",
              "\n",
              "    .dataframe tbody tr th {\n",
              "        vertical-align: top;\n",
              "    }\n",
              "\n",
              "    .dataframe thead th {\n",
              "        text-align: right;\n",
              "    }\n",
              "</style>\n",
              "<table border=\"1\" class=\"dataframe\">\n",
              "  <thead>\n",
              "    <tr style=\"text-align: right;\">\n",
              "      <th></th>\n",
              "      <th>0</th>\n",
              "      <th>1</th>\n",
              "      <th>2</th>\n",
              "      <th>3</th>\n",
              "      <th>4</th>\n",
              "    </tr>\n",
              "  </thead>\n",
              "  <tbody>\n",
              "    <tr>\n",
              "      <th>26</th>\n",
              "      <td>5.0</td>\n",
              "      <td>3.4</td>\n",
              "      <td>1.6</td>\n",
              "      <td>0.4</td>\n",
              "      <td>0</td>\n",
              "    </tr>\n",
              "    <tr>\n",
              "      <th>130</th>\n",
              "      <td>7.4</td>\n",
              "      <td>2.8</td>\n",
              "      <td>6.1</td>\n",
              "      <td>1.9</td>\n",
              "      <td>1</td>\n",
              "    </tr>\n",
              "    <tr>\n",
              "      <th>132</th>\n",
              "      <td>6.4</td>\n",
              "      <td>2.8</td>\n",
              "      <td>5.6</td>\n",
              "      <td>2.2</td>\n",
              "      <td>1</td>\n",
              "    </tr>\n",
              "    <tr>\n",
              "      <th>118</th>\n",
              "      <td>7.7</td>\n",
              "      <td>2.6</td>\n",
              "      <td>6.9</td>\n",
              "      <td>2.3</td>\n",
              "      <td>1</td>\n",
              "    </tr>\n",
              "    <tr>\n",
              "      <th>127</th>\n",
              "      <td>6.1</td>\n",
              "      <td>3.0</td>\n",
              "      <td>4.9</td>\n",
              "      <td>1.8</td>\n",
              "      <td>1</td>\n",
              "    </tr>\n",
              "    <tr>\n",
              "      <th>...</th>\n",
              "      <td>...</td>\n",
              "      <td>...</td>\n",
              "      <td>...</td>\n",
              "      <td>...</td>\n",
              "      <td>...</td>\n",
              "    </tr>\n",
              "    <tr>\n",
              "      <th>31</th>\n",
              "      <td>5.4</td>\n",
              "      <td>3.4</td>\n",
              "      <td>1.5</td>\n",
              "      <td>0.4</td>\n",
              "      <td>0</td>\n",
              "    </tr>\n",
              "    <tr>\n",
              "      <th>104</th>\n",
              "      <td>6.5</td>\n",
              "      <td>3.0</td>\n",
              "      <td>5.8</td>\n",
              "      <td>2.2</td>\n",
              "      <td>1</td>\n",
              "    </tr>\n",
              "    <tr>\n",
              "      <th>123</th>\n",
              "      <td>6.3</td>\n",
              "      <td>2.7</td>\n",
              "      <td>4.9</td>\n",
              "      <td>1.8</td>\n",
              "      <td>1</td>\n",
              "    </tr>\n",
              "    <tr>\n",
              "      <th>40</th>\n",
              "      <td>5.0</td>\n",
              "      <td>3.5</td>\n",
              "      <td>1.3</td>\n",
              "      <td>0.3</td>\n",
              "      <td>0</td>\n",
              "    </tr>\n",
              "    <tr>\n",
              "      <th>133</th>\n",
              "      <td>6.3</td>\n",
              "      <td>2.8</td>\n",
              "      <td>5.1</td>\n",
              "      <td>1.5</td>\n",
              "      <td>1</td>\n",
              "    </tr>\n",
              "  </tbody>\n",
              "</table>\n",
              "<p>100 rows × 5 columns</p>\n",
              "</div>\n",
              "      <button class=\"colab-df-convert\" onclick=\"convertToInteractive('df-48341168-4de7-4555-badb-b3223918f21d')\"\n",
              "              title=\"Convert this dataframe to an interactive table.\"\n",
              "              style=\"display:none;\">\n",
              "        \n",
              "  <svg xmlns=\"http://www.w3.org/2000/svg\" height=\"24px\"viewBox=\"0 0 24 24\"\n",
              "       width=\"24px\">\n",
              "    <path d=\"M0 0h24v24H0V0z\" fill=\"none\"/>\n",
              "    <path d=\"M18.56 5.44l.94 2.06.94-2.06 2.06-.94-2.06-.94-.94-2.06-.94 2.06-2.06.94zm-11 1L8.5 8.5l.94-2.06 2.06-.94-2.06-.94L8.5 2.5l-.94 2.06-2.06.94zm10 10l.94 2.06.94-2.06 2.06-.94-2.06-.94-.94-2.06-.94 2.06-2.06.94z\"/><path d=\"M17.41 7.96l-1.37-1.37c-.4-.4-.92-.59-1.43-.59-.52 0-1.04.2-1.43.59L10.3 9.45l-7.72 7.72c-.78.78-.78 2.05 0 2.83L4 21.41c.39.39.9.59 1.41.59.51 0 1.02-.2 1.41-.59l7.78-7.78 2.81-2.81c.8-.78.8-2.07 0-2.86zM5.41 20L4 18.59l7.72-7.72 1.47 1.35L5.41 20z\"/>\n",
              "  </svg>\n",
              "      </button>\n",
              "      \n",
              "  <style>\n",
              "    .colab-df-container {\n",
              "      display:flex;\n",
              "      flex-wrap:wrap;\n",
              "      gap: 12px;\n",
              "    }\n",
              "\n",
              "    .colab-df-convert {\n",
              "      background-color: #E8F0FE;\n",
              "      border: none;\n",
              "      border-radius: 50%;\n",
              "      cursor: pointer;\n",
              "      display: none;\n",
              "      fill: #1967D2;\n",
              "      height: 32px;\n",
              "      padding: 0 0 0 0;\n",
              "      width: 32px;\n",
              "    }\n",
              "\n",
              "    .colab-df-convert:hover {\n",
              "      background-color: #E2EBFA;\n",
              "      box-shadow: 0px 1px 2px rgba(60, 64, 67, 0.3), 0px 1px 3px 1px rgba(60, 64, 67, 0.15);\n",
              "      fill: #174EA6;\n",
              "    }\n",
              "\n",
              "    [theme=dark] .colab-df-convert {\n",
              "      background-color: #3B4455;\n",
              "      fill: #D2E3FC;\n",
              "    }\n",
              "\n",
              "    [theme=dark] .colab-df-convert:hover {\n",
              "      background-color: #434B5C;\n",
              "      box-shadow: 0px 1px 3px 1px rgba(0, 0, 0, 0.15);\n",
              "      filter: drop-shadow(0px 1px 2px rgba(0, 0, 0, 0.3));\n",
              "      fill: #FFFFFF;\n",
              "    }\n",
              "  </style>\n",
              "\n",
              "      <script>\n",
              "        const buttonEl =\n",
              "          document.querySelector('#df-48341168-4de7-4555-badb-b3223918f21d button.colab-df-convert');\n",
              "        buttonEl.style.display =\n",
              "          google.colab.kernel.accessAllowed ? 'block' : 'none';\n",
              "\n",
              "        async function convertToInteractive(key) {\n",
              "          const element = document.querySelector('#df-48341168-4de7-4555-badb-b3223918f21d');\n",
              "          const dataTable =\n",
              "            await google.colab.kernel.invokeFunction('convertToInteractive',\n",
              "                                                     [key], {});\n",
              "          if (!dataTable) return;\n",
              "\n",
              "          const docLinkHtml = 'Like what you see? Visit the ' +\n",
              "            '<a target=\"_blank\" href=https://colab.research.google.com/notebooks/data_table.ipynb>data table notebook</a>'\n",
              "            + ' to learn more about interactive tables.';\n",
              "          element.innerHTML = '';\n",
              "          dataTable['output_type'] = 'display_data';\n",
              "          await google.colab.output.renderOutput(dataTable, element);\n",
              "          const docLink = document.createElement('div');\n",
              "          docLink.innerHTML = docLinkHtml;\n",
              "          element.appendChild(docLink);\n",
              "        }\n",
              "      </script>\n",
              "    </div>\n",
              "  </div>\n",
              "  "
            ]
          },
          "metadata": {},
          "execution_count": 26
        }
      ]
    },
    {
      "cell_type": "code",
      "source": [
        "# get training data / test data\n",
        "n_train = round(len(new_df) * 0.8) # 반올림까지!\n",
        "print(n_train) # 전체가 100개니깐 우리는 80개가 나온다.\n",
        "\n",
        "# get training data\n",
        "train_df = new_df.iloc[:n_train]\n",
        "\n",
        "# get test data\n",
        "test_df = new_df.iloc[n_train:]"
      ],
      "metadata": {
        "colab": {
          "base_uri": "https://localhost:8080/"
        },
        "id": "DBbRDWH7tGsy",
        "outputId": "af3c72f8-e339-4d84-bc7b-953629ca76e9"
      },
      "execution_count": null,
      "outputs": [
        {
          "output_type": "stream",
          "name": "stdout",
          "text": [
            "80\n"
          ]
        }
      ]
    },
    {
      "cell_type": "code",
      "source": [
        "# make train_df and test_df to numpy arrays\n",
        "train_df = train_df.to_numpy()\n",
        "test_df = test_df.to_numpy()"
      ],
      "metadata": {
        "id": "IxysUD4s9MWn"
      },
      "execution_count": null,
      "outputs": []
    },
    {
      "cell_type": "code",
      "source": [
        "# data: X and predictor variable y\n",
        "#\n",
        "train_x = train_df[:, :4]\n",
        "train_y = train_df[:, 4]\n",
        "test_x = test_df[:, :4]\n",
        "test_y = test_df[:, 4]"
      ],
      "metadata": {
        "id": "ffa5TLo79h5b"
      },
      "execution_count": null,
      "outputs": []
    },
    {
      "cell_type": "code",
      "source": [
        "# augment X with 1's in the leftmost column\n",
        "train_x = np.insert(train_x, 0, 1, axis=1)\n",
        "test_x = np.insert(test_x, 0, 1, axis=1)\n"
      ],
      "metadata": {
        "id": "EwOxAgQh97Kw"
      },
      "execution_count": null,
      "outputs": []
    },
    {
      "cell_type": "code",
      "source": [
        "# simple sigmoid function\n",
        "def sigmoid_func(z):\n",
        "  '''\n",
        "  z: real value\n",
        "  '''\n",
        "  return 1/(1 + np.exp(-z))"
      ],
      "metadata": {
        "id": "OnsV9f5o-VOH"
      },
      "execution_count": null,
      "outputs": []
    },
    {
      "cell_type": "code",
      "source": [
        "# test sigmoid function\n",
        "print(sigmoid_func(0))\n",
        "print(sigmoid_func(10.2))"
      ],
      "metadata": {
        "id": "IJKMEbRfH2z6",
        "colab": {
          "base_uri": "https://localhost:8080/"
        },
        "outputId": "c74fe38c-f564-4485-ac02-b1a4dcfedc7b"
      },
      "execution_count": null,
      "outputs": [
        {
          "output_type": "stream",
          "name": "stdout",
          "text": [
            "0.5\n",
            "0.9999628310628971\n"
          ]
        }
      ]
    },
    {
      "cell_type": "code",
      "source": [
        "# our hypothesis function\n",
        "def compute_logistic_func(theta, x):\n",
        "  '''\n",
        "  theta: w0, w1, ..., wn\n",
        "  x: 1, x1, x2, ..., xn\n",
        "  '''\n",
        "  z = np.dot(theta, x)\n",
        "  return sigmoid_func(z)"
      ],
      "metadata": {
        "id": "OyEL9LpYIX41"
      },
      "execution_count": null,
      "outputs": []
    },
    {
      "cell_type": "code",
      "source": [
        "# test logistic function\n",
        "test_theta = np.random.rand(5)\n",
        "compute_logistic_func(test_theta, train_x[1])"
      ],
      "metadata": {
        "id": "ybMuZVLjJMHm",
        "colab": {
          "base_uri": "https://localhost:8080/"
        },
        "outputId": "96e1820a-b933-4a22-e0b9-713c0ddf1b2a"
      },
      "execution_count": null,
      "outputs": [
        {
          "output_type": "execute_result",
          "data": {
            "text/plain": [
              "0.9997025673843636"
            ]
          },
          "metadata": {},
          "execution_count": 39
        }
      ]
    },
    {
      "cell_type": "code",
      "source": [
        "# compute gradient\n",
        "def compute_jth_log_gradient(theta, j, X, y):\n",
        "  '''\n",
        "  theta = w0, w1, ..., wn\n",
        "  j: jth feature\n",
        "  X: data\n",
        "  y: predictor variable\n",
        "  '''\n",
        "  # number of data: m\n",
        "  m = len(X)\n",
        "\n",
        "  dl_dw = 0\n",
        "  for i in range(m):\n",
        "    dl_dw += (y[i] - compute_logistic_func(theta, X[i])) * X[i][j]\n",
        "  dl_dw *= 1/m\n",
        "  return dl_dw\n"
      ],
      "metadata": {
        "id": "uMzgkmA1H6Oz"
      },
      "execution_count": null,
      "outputs": []
    },
    {
      "cell_type": "code",
      "source": [
        "# test gradient function\n",
        "compute_jth_log_gradient(test_theta, 1, train_x, train_y)"
      ],
      "metadata": {
        "id": "3hcagkHbJXma",
        "colab": {
          "base_uri": "https://localhost:8080/"
        },
        "outputId": "c1340117-001f-4b9a-8ef6-27467a7cbaf4"
      },
      "execution_count": null,
      "outputs": [
        {
          "output_type": "execute_result",
          "data": {
            "text/plain": [
              "-2.6074378978443202"
            ]
          },
          "metadata": {},
          "execution_count": 43
        }
      ]
    },
    {
      "cell_type": "code",
      "source": [
        "def cross_entropy(theta, X, y):\n",
        "  '''\n",
        "  theta = w0, w1, ..., wn\n",
        "  X: data\n",
        "  y: predictor variable\n",
        "  '''\n",
        "  # number of data: m\n",
        "  m = len(X)\n",
        "\n",
        "  cross = 0\n",
        "  for i in range(m):\n",
        "    cross += y[i] * np.log(compute_logistic_func(theta, X[i])) + (1 - y[i]) * np.log(1 - compute_logistic_func(theta, X[i]))\n",
        "  cross *= 1/m\n",
        "\n",
        "  return cross"
      ],
      "metadata": {
        "id": "pWl_XPKAhreR"
      },
      "execution_count": null,
      "outputs": []
    },
    {
      "cell_type": "code",
      "source": [
        "# test cross entropy function\n",
        "cross_entropy(test_theta, train_x, train_y)"
      ],
      "metadata": {
        "id": "MTcdYf1ljpZH",
        "colab": {
          "base_uri": "https://localhost:8080/"
        },
        "outputId": "6c7bfb3c-9d12-42b0-9474-a918c14268dc"
      },
      "execution_count": null,
      "outputs": [
        {
          "output_type": "execute_result",
          "data": {
            "text/plain": [
              "-2.4954035017656824"
            ]
          },
          "metadata": {},
          "execution_count": 52
        }
      ]
    },
    {
      "cell_type": "markdown",
      "source": [
        "2교시 시작\n",
        ": 알고리즘 따라 구현하기~\n"
      ],
      "metadata": {
        "id": "LSG2xyiGyAlu"
      }
    },
    {
      "cell_type": "code",
      "source": [
        "# gradient descent for logistic regression\n",
        "def logistic_gradient_ascent(X, y, alpha):\n",
        "  '''\n",
        "  X: data\n",
        "  y: predictor variable\n",
        "  '''\n",
        "  m = len(X)\n",
        "  n = X.shape[1]\n",
        "\n",
        "  iter = 200\n",
        "  cross = [] # 사실은 로그 어쩌구\n",
        "\n",
        "  # init. theta\n",
        "  np.random.seed(23)\n",
        "  theta = np.random.rand(n)\n",
        "\n",
        "  for i in range(iter):\n",
        "    cross.append(cross_entropy(theta, X, y))\n",
        "\n",
        "    for j in range(n_train):\n",
        "      theta[j] = theta[j] + alpha * compute_jth_log_gradient(theta, j, X, y)\n",
        "\n",
        "  return theta, cross\n",
        "\n"
      ],
      "metadata": {
        "id": "eSJLPTELJYBi"
      },
      "execution_count": null,
      "outputs": []
    },
    {
      "cell_type": "code",
      "source": [
        "# gradient descent for logistic regression\n",
        "def logistic_gradient_ascent(X, y, alpha):\n",
        "  '''\n",
        "  X: data\n",
        "  y: predictor variable\n",
        "  '''\n",
        "  m = len(X)\n",
        "  n = X.shape[1]\n",
        "\n",
        "  iter = 200\n",
        "  cross = []\n",
        "\n",
        "  # init. theta\n",
        "  np.random.seed(23)\n",
        "  theta = np.random.rand(n)\n",
        "\n",
        "  for i in range(iter):\n",
        "\n",
        "    cross.append(cross_entropy(theta, X, y))\n",
        "\n",
        "    for j in range(n):\n",
        "      theta[j] = theta[j] + alpha * compute_jth_log_gradient(theta, j, X, y)\n",
        "\n",
        "  return theta, cross"
      ],
      "metadata": {
        "id": "s61_Ik_C2v1J"
      },
      "execution_count": null,
      "outputs": []
    },
    {
      "cell_type": "code",
      "source": [
        "# run logistic regression\n",
        "theta, cross = logistic_gradient_ascent(train_x, train_y, alpha=0.01)"
      ],
      "metadata": {
        "id": "1AJ5uHTXM-er"
      },
      "execution_count": null,
      "outputs": []
    },
    {
      "cell_type": "code",
      "source": [
        "# plot cross entropy\n",
        "iter_list = list(range(len(cross)))\n",
        "plt.plot(iter_list, cross, color='r')\n",
        "# plt.plot(iter_list, cross, color='b')\n",
        "# plt.plot(iter_list, cross, color='g')\n",
        "\n",
        "\n",
        "# xlabel, ylabel, legend, title\n",
        "plt.xlabel(\"iter number\")\n",
        "plt.ylabel(\"cross entropy\")\n",
        "plt.legend([\"alpha = 0.01\"])\n",
        "plt.title(\"c\")"
      ],
      "metadata": {
        "id": "VrfPn2e5PsGW",
        "colab": {
          "base_uri": "https://localhost:8080/",
          "height": 490
        },
        "outputId": "5e556ac1-8b3c-41a0-d241-87915d0eeb6a"
      },
      "execution_count": null,
      "outputs": [
        {
          "output_type": "execute_result",
          "data": {
            "text/plain": [
              "Text(0.5, 1.0, 'c')"
            ]
          },
          "metadata": {},
          "execution_count": 63
        },
        {
          "output_type": "display_data",
          "data": {
            "text/plain": [
              "<Figure size 640x480 with 1 Axes>"
            ],
            "image/png": "[encoded data removed]"
          },
          "metadata": {}
        }
      ]
    },
    {
      "cell_type": "code",
      "source": [
        "## TRY\n",
        "# train with different alpha (0.01, 0.03, 0.1)\n",
        "theta1, cross1 = logistic_gradient_ascent(train_x, train_y, alpha=0.01)\n",
        "theta2, cross2 = logistic_gradient_ascent(train_x, train_y, alpha=0.03)\n",
        "theta3, cross3 = logistic_gradient_ascent(train_x, train_y, alpha=0.1)\n",
        "\n",
        "\n",
        "# plot cross entropy\n",
        "iter_list1 = list(range(len(cross1)))\n",
        "iter_list2 = list(range(len(cross2)))\n",
        "iter_list3 = list(range(len(cross3)))\n",
        "\n",
        "plt.plot(iter_list1, cross1, color='r')\n",
        "plt.plot(iter_list2, cross2, color='b')\n",
        "plt.plot(iter_list3, cross3, color='g')\n",
        "\n",
        "# xlabel, ylabel, legend, title\n",
        "plt.xlabel(\"iter number\")\n",
        "plt.ylabel(\"cross entropy\")\n",
        "plt.legend([\"alpha = 0.01\",\"alpha = 0.03\",\"alpha = 0.1\"])\n",
        "plt.title(\"cross entropy of logistic regression\")"
      ],
      "metadata": {
        "id": "OFk45sxDkIek",
        "colab": {
          "base_uri": "https://localhost:8080/",
          "height": 490
        },
        "outputId": "4fb7541a-2c95-4715-f85c-d9b315a2a5ba"
      },
      "execution_count": null,
      "outputs": [
        {
          "output_type": "execute_result",
          "data": {
            "text/plain": [
              "Text(0.5, 1.0, 'cross entropy of logistic regression')"
            ]
          },
          "metadata": {},
          "execution_count": 66
        },
        {
          "output_type": "display_data",
          "data": {
            "text/plain": [
              "<Figure size 640x480 with 1 Axes>"
            ],
            "image/png": "[encoded data removed]"
          },
          "metadata": {}
        }
      ]
    },
    {
      "cell_type": "code",
      "source": [
        "# prediction with our optimal theta\n",
        "y_pred = test_x @ theta\n",
        "y_pred = sigmoid_func(y_pred)"
      ],
      "metadata": {
        "id": "7mYTu0i4nCZa"
      },
      "execution_count": null,
      "outputs": []
    },
    {
      "cell_type": "code",
      "source": [
        "# print y_pred\n",
        "y_pred"
      ],
      "metadata": {
        "id": "9iYnPm1WnUFS",
        "colab": {
          "base_uri": "https://localhost:8080/"
        },
        "outputId": "6cb87f17-554b-44b2-bf89-d0b3fe7853cf"
      },
      "execution_count": null,
      "outputs": [
        {
          "output_type": "execute_result",
          "data": {
            "text/plain": [
              "array([0.86809962, 0.87243112, 0.82977606, 0.84076326, 0.83469327,\n",
              "       0.2029103 , 0.22169395, 0.23858352, 0.2238299 , 0.84799372,\n",
              "       0.24229377, 0.86722877, 0.20279255, 0.81205461, 0.79231926,\n",
              "       0.20466426, 0.88035555, 0.80340092, 0.189707  , 0.79474985])"
            ]
          },
          "metadata": {},
          "execution_count": 70
        }
      ]
    },
    {
      "cell_type": "code",
      "source": [
        "# predict label based on threshold\n",
        "def pred_label(theta, test_x, threshold):\n",
        "\n",
        "  y_pred = test_x @ theta\n",
        "  y_pred = sigmoid_func(y_pred)\n",
        "\n",
        "  # m = len(y_pred)\n",
        "  n_test = len(test_x)\n",
        "  y_pred_label = np.zeros(n_test)\n",
        "\n",
        "  for i in range(n_test):\n",
        "    if y_pred[i] >= threshold:\n",
        "      y_pred_label[i] = 1\n",
        "    else:\n",
        "      y_pred_label[i] = 0\n",
        "\n",
        "  return y_pred_label"
      ],
      "metadata": {
        "id": "qzVpl56cHlY2"
      },
      "execution_count": null,
      "outputs": []
    },
    {
      "cell_type": "code",
      "source": [
        "y_pred_label = pred_label(theta, test_x, threshold=0.5)\n",
        "y_pred_label"
      ],
      "metadata": {
        "id": "fzjP0nOBHuEL",
        "colab": {
          "base_uri": "https://localhost:8080/"
        },
        "outputId": "974409fa-8532-4161-82ad-4ec1bdb36d64"
      },
      "execution_count": null,
      "outputs": [
        {
          "output_type": "execute_result",
          "data": {
            "text/plain": [
              "array([1., 1., 1., 1., 1., 0., 0., 0., 0., 1., 0., 1., 0., 1., 1., 0., 1.,\n",
              "       1., 0., 1.])"
            ]
          },
          "metadata": {},
          "execution_count": 77
        }
      ]
    },
    {
      "cell_type": "code",
      "source": [
        "test_y"
      ],
      "metadata": {
        "colab": {
          "base_uri": "https://localhost:8080/"
        },
        "id": "P17UvOo8HxjR",
        "outputId": "23185f7f-de00-44a3-9586-31409ca48a68"
      },
      "execution_count": null,
      "outputs": [
        {
          "output_type": "execute_result",
          "data": {
            "text/plain": [
              "array([1., 1., 1., 1., 1., 0., 0., 0., 0., 1., 0., 1., 0., 1., 1., 0., 1.,\n",
              "       1., 0., 1.])"
            ]
          },
          "metadata": {},
          "execution_count": 76
        }
      ]
    },
    {
      "cell_type": "code",
      "source": [
        "# create confusion matrix\n",
        "def create_confusion_matrix(y_pred_label, test_y):\n",
        "  # create conf_matrix\n",
        "  conf_matrix = np.zeros((2,2))\n",
        "\n",
        "  m = len(test_y)\n",
        "\n",
        "  for i in range(m):\n",
        "    if y_pred_label[i] == test_y[i]:\n",
        "      if test_y[i] == 1:\n",
        "        conf_matrix[0][0] += 1\n",
        "      else:\n",
        "        conf_matrix[1][1] += 1\n",
        "    else:\n",
        "      if test_y[i] == 1:\n",
        "        conf_matrix[0][1] += 1\n",
        "      else:\n",
        "        conf_matrix[1][0] += 1\n",
        "\n",
        "    '''\n",
        "    for i in range(n_test):\n",
        "    # TP\n",
        "    if (y_pred_label[i] == 1) & (test_y[i] == 1):\n",
        "      conf_matrix[0][0] += 1\n",
        "    # FN\n",
        "    elif (y_pred_label[i] == 0) & (test_y[i] == 1):\n",
        "      conf_matrix[0][1] += 1\n",
        "    # FP\n",
        "    elif (y_pred_label[i] == 1) & (test_y[i] == 0):\n",
        "      conf_matrix[1][0] += 1\n",
        "    else:\n",
        "      conf_matrix[1][1] += 1\n",
        "    '''\n",
        "\n",
        "  return conf_matrix"
      ],
      "metadata": {
        "id": "9chKXKjoHzcq"
      },
      "execution_count": null,
      "outputs": []
    },
    {
      "cell_type": "code",
      "source": [
        "conf_matrix = create_confusion_matrix(y_pred_label, test_y)"
      ],
      "metadata": {
        "id": "UKFS84xPH4oN"
      },
      "execution_count": null,
      "outputs": []
    },
    {
      "cell_type": "code",
      "source": [
        "conf_matrix"
      ],
      "metadata": {
        "colab": {
          "base_uri": "https://localhost:8080/"
        },
        "id": "GQtC2zqcH7HI",
        "outputId": "c7276d60-81c2-4246-81cb-ba38ce3a1f34"
      },
      "execution_count": null,
      "outputs": [
        {
          "output_type": "execute_result",
          "data": {
            "text/plain": [
              "array([[12.,  0.],\n",
              "       [ 0.,  8.]])"
            ]
          },
          "metadata": {},
          "execution_count": 80
        }
      ]
    },
    {
      "cell_type": "code",
      "source": [
        "def accuracy_logistic(conf_matrix):\n",
        "  # acc = (conf_matrix[0][0]+conf_matrix[1][1]) / (conf_matrix[0][0]+conf_matrix[1][1]+conf_matrix[0][1]+conf_matrix[1][0])\n",
        "  return (conf_matrix[0][0] + conf_matrix[1][1]) / conf_matrix.sum()"
      ],
      "metadata": {
        "id": "6Th0I-ehp3-f"
      },
      "execution_count": null,
      "outputs": []
    },
    {
      "cell_type": "code",
      "source": [
        "accuracy_logistic(conf_matrix)"
      ],
      "metadata": {
        "id": "k3mAvsn2qFgq",
        "colab": {
          "base_uri": "https://localhost:8080/"
        },
        "outputId": "c4553297-e31a-409f-bcf1-7ff0fa9345cb"
      },
      "execution_count": null,
      "outputs": [
        {
          "output_type": "execute_result",
          "data": {
            "text/plain": [
              "1.0"
            ]
          },
          "metadata": {},
          "execution_count": 82
        }
      ]
    },
    {
      "cell_type": "code",
      "source": [
        "def precision_logistic(conf_matrix):\n",
        "  # return conf_matrix[0][0] / (conf_matrix[0][0]+conf_matrix[1][0])\n",
        "  return conf_matrix[0][0] / conf_matrix[:, 0].sum()"
      ],
      "metadata": {
        "id": "2LHCdHq0qGRt"
      },
      "execution_count": null,
      "outputs": []
    },
    {
      "cell_type": "code",
      "source": [
        "precision_logistic(conf_matrix)"
      ],
      "metadata": {
        "id": "uQuOi5OzqfYL",
        "colab": {
          "base_uri": "https://localhost:8080/"
        },
        "outputId": "b69d99db-2e65-4195-bd5e-1a1b5505df1e"
      },
      "execution_count": null,
      "outputs": [
        {
          "output_type": "execute_result",
          "data": {
            "text/plain": [
              "1.0"
            ]
          },
          "metadata": {},
          "execution_count": 90
        }
      ]
    },
    {
      "cell_type": "code",
      "source": [
        "def recall_logistic(conf_matrix):\n",
        "  # return conf_matrix[0][0] / (conf_matrix[0][0]+conf_matrix[0][1])\n",
        "  return conf_matrix[0][0] / conf_matrix[0].sum()"
      ],
      "metadata": {
        "id": "5tgTk17Iqgjl"
      },
      "execution_count": null,
      "outputs": []
    },
    {
      "cell_type": "code",
      "source": [
        "recall_logistic(conf_matrix)"
      ],
      "metadata": {
        "id": "ks0Xs2sZrCQC",
        "colab": {
          "base_uri": "https://localhost:8080/"
        },
        "outputId": "599a68dc-3cbb-4723-8577-640675dfad5b"
      },
      "execution_count": null,
      "outputs": [
        {
          "output_type": "execute_result",
          "data": {
            "text/plain": [
              "1.0"
            ]
          },
          "metadata": {},
          "execution_count": 92
        }
      ]
    },
    {
      "cell_type": "code",
      "source": [
        "def f1_score(conf_matrix):\n",
        "  P = precision_logistic(conf_matrix)\n",
        "  R = recall_logistic(conf_matrix)\n",
        "  return 2 * P * R / (P + R)"
      ],
      "metadata": {
        "id": "eZROG2QhrDvp"
      },
      "execution_count": null,
      "outputs": []
    },
    {
      "cell_type": "code",
      "source": [
        "f1_score(conf_matrix)"
      ],
      "metadata": {
        "id": "jwU1p-c3rdgJ",
        "colab": {
          "base_uri": "https://localhost:8080/"
        },
        "outputId": "da231434-81b6-4935-c241-3b8a080eb195"
      },
      "execution_count": null,
      "outputs": [
        {
          "output_type": "execute_result",
          "data": {
            "text/plain": [
              "1.0"
            ]
          },
          "metadata": {},
          "execution_count": 94
        }
      ]
    },
    {
      "cell_type": "code",
      "source": [
        "def false_positive_logistic(conf_matrix):\n",
        "  return conf_matrix[1][0] / conf_matrix[1].sum()"
      ],
      "metadata": {
        "id": "VP2Cv0dDref4"
      },
      "execution_count": null,
      "outputs": []
    },
    {
      "cell_type": "code",
      "source": [
        "false_positive_logistic(conf_matrix)"
      ],
      "metadata": {
        "id": "OVgF_j_Mu1oF",
        "colab": {
          "base_uri": "https://localhost:8080/"
        },
        "outputId": "188436ed-674b-4697-9f83-43e475cb3813"
      },
      "execution_count": null,
      "outputs": [
        {
          "output_type": "execute_result",
          "data": {
            "text/plain": [
              "0.0"
            ]
          },
          "metadata": {},
          "execution_count": 99
        }
      ]
    },
    {
      "cell_type": "code",
      "source": [
        "# AUC curve\n",
        "threshold = np.linspace(0, 1, 100)\n",
        "tpr = []\n",
        "fpr = []\n",
        "for value in threshold:\n",
        "\n",
        "  # prediction of y label\n",
        "  y_pred_label = pred_label(theta, test_x, threshold=value)\n",
        "  # create confusion matrix\n",
        "  conf_matrix = create_confusion_matrix(y_pred_label, test_y)\n",
        "  # tpr\n",
        "  tpr.append(recall_logistic(conf_matrix))\n",
        "  # fpr\n",
        "  fpr.append(false_positive_logistic(conf_matrix))\n"
      ],
      "metadata": {
        "id": "ZJr0RtAsOnJJ"
      },
      "execution_count": null,
      "outputs": []
    },
    {
      "cell_type": "code",
      "source": [
        "plt.plot(fpr, tpr, color='r')\n",
        "\n",
        "plt.xlim(0, 1)\n",
        "plt.ylim(0, 1)"
      ],
      "metadata": {
        "id": "m3f_O_mmOutL",
        "colab": {
          "base_uri": "https://localhost:8080/",
          "height": 453
        },
        "outputId": "37a0c555-72a6-4ca1-e8f8-212c3bbdfa7d"
      },
      "execution_count": null,
      "outputs": [
        {
          "output_type": "execute_result",
          "data": {
            "text/plain": [
              "(0.0, 1.0)"
            ]
          },
          "metadata": {},
          "execution_count": 104
        },
        {
          "output_type": "display_data",
          "data": {
            "text/plain": [
              "<Figure size 640x480 with 1 Axes>"
            ],
            "image/png": "[encoded data removed]"
          },
          "metadata": {}
        }
      ]
    },
    {
      "cell_type": "code",
      "source": [],
      "metadata": {
        "id": "bb5bIDacOveY"
      },
      "execution_count": null,
      "outputs": []
    }
  ]
}